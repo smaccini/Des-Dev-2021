{
 "cells": [
  {
   "cell_type": "markdown",
   "source": [
    "# Pandas Jupyter Experiment \r\n",
    "For this exercise, you will be choosing a dataset that is already available in CSV, using either the links suggested in the module or an external source. Note that the completeness and organization of the CSV will impact your success, so you might want to investigate it using our initial methods before you commit to it and your object of analysis.\r\n",
    "\r\n",
    "I have provided the headings for each section: you can modify them to reflect your final workflow. Here's what you need to accomplish and document:\r\n",
    "\r\n",
    "- Complete the five sequential stages of importing, analyzing, and visualizing your CSV data using the Pandas library. The headers are provided, but you will need to plan out and structure what happens in the code using a combination of our class exercise and the textbook for guidance.\r\n",
    "\r\n",
    "- Create a well-structured, readable documentation for every cell of your Python code. Use Markdown (as demonstrated in this example) and preview the results on GitHub to confirm it works as intended.\r\n",
    "\r\n",
    "- As a bonus exercise, output and save a meaningful, formatted visualization, following the examples in the textbook.\r\n",
    "\r\n"
   ],
   "metadata": {}
  },
  {
   "cell_type": "markdown",
   "source": [
    "## Stage One: Import Libraries / Data\r\n",
    "\r\n",
    "(Describe your code briefly here)\r\n",
    "\r\n",
    "1. First, importing the pandas function.\r\n",
    "2. Creating a data frame object from the csv file.  Identifying \",\" as the delimiter.  \r\n",
    "\r\n",
    "   \r\n",
    "I selected the superbowl csv file as it appears to be well structured with a variety of different types of data contained within the file.  I purposely sought out a small file size for this first effort."
   ],
   "metadata": {}
  },
  {
   "cell_type": "code",
   "execution_count": null,
   "source": [
    "import pandas as pd\r\n",
    "\r\n",
    "superbowl_df = pd.read_csv('superbowl.csv', delimiter=\",\")\r\n",
    "\r\n",
    "\r\n"
   ],
   "outputs": [],
   "metadata": {}
  },
  {
   "cell_type": "markdown",
   "source": [
    "## Stage Two: Display a Summary and Sub-sections of the Data\r\n",
    "(Show at least three different views using filtering or value sorting, and describe your choices)\r\n",
    "\r\n",
    "1. Displaying the top ten rows of the data frame to be able to examine the data and check the import.\r\n",
    "2. Displaying a random sample.\r\n",
    "3. Searching the data to display all games played in a dome.\r\n",
    "4. Searching the MVP list for all games in which Joe Montana was named MVP."
   ],
   "metadata": {}
  },
  {
   "cell_type": "code",
   "execution_count": null,
   "source": [
    "superbowl_df.head(10)\r\n"
   ],
   "outputs": [],
   "metadata": {}
  },
  {
   "cell_type": "code",
   "execution_count": null,
   "source": [
    "superbowl_df.sample(10)"
   ],
   "outputs": [],
   "metadata": {}
  },
  {
   "cell_type": "code",
   "execution_count": null,
   "source": [
    "superbowl_df[superbowl_df['Stadium'].str.contains('dome')]"
   ],
   "outputs": [],
   "metadata": {}
  },
  {
   "cell_type": "code",
   "execution_count": null,
   "source": [
    "superbowl_df[superbowl_df['MVP'].str.contains('Montana')]"
   ],
   "outputs": [],
   "metadata": {}
  },
  {
   "cell_type": "markdown",
   "source": [
    "## Stage Three: Clean Your Data\r\n",
    "(Varies by dataset: you might replace missing values with a filler, replace shorthand from the dataset with readable language, and/or delete duplicates)\r\n",
    "\r\n",
    "This one is stumping me.  The only error I found was that Superbowl 50 is missing its roman numeral.  I cannot figure out how to fix that."
   ],
   "metadata": {}
  },
  {
   "cell_type": "code",
   "execution_count": null,
   "source": [],
   "outputs": [],
   "metadata": {}
  },
  {
   "cell_type": "markdown",
   "source": [
    "## Stage Four: Plot Your Data\r\n",
    "\r\n",
    "(Try at least three different plots - bar, hist, box, area, scatter, hexbin, and pie are all worth viewing - and describe your choices)\r\n",
    "\r\n",
    "1. Bar chart of most frequenlty used stadiums\r\n",
    "2. Pie chart showing share of superbowls by state\r\n",
    "3. Scatter plot showing winner and loser points"
   ],
   "metadata": {}
  },
  {
   "cell_type": "code",
   "execution_count": null,
   "source": [
    "superbowl_df['Stadium'].value_counts()[:11].plot(kind=\"barh\", title=\"Most Frequently Used Superbowl Stadiums\")"
   ],
   "outputs": [],
   "metadata": {}
  },
  {
   "cell_type": "code",
   "execution_count": null,
   "source": [
    "superbowl_df['State'].value_counts().plot(kind=\"pie\", title=\"States Hosting Superbowls\")"
   ],
   "outputs": [],
   "metadata": {}
  },
  {
   "cell_type": "code",
   "execution_count": 45,
   "source": [
    "superbowl_df.plot.scatter(x='Winner Pts',\r\n",
    "                            y='Loser Pts')"
   ],
   "outputs": [
    {
     "output_type": "execute_result",
     "data": {
      "text/plain": [
       "<AxesSubplot:xlabel='Winner Pts', ylabel='Loser Pts'>"
      ]
     },
     "metadata": {},
     "execution_count": 45
    },
    {
     "output_type": "display_data",
     "data": {
      "image/png": "[encoded data removed]",
      "text/plain": [
       "<Figure size 432x288 with 1 Axes>"
      ]
     },
     "metadata": {
      "needs_background": "light"
     }
    }
   ],
   "metadata": {}
  },
  {
   "cell_type": "markdown",
   "source": [
    "## Stage Five: Draw Comparisons and Make Claims\r\n",
    "\r\n",
    "(Think of all the methods we've used so far - what might you analyze about this dataset? This section can mostly be commentary drawing on what you've found so far)\r\n",
    "\r\n",
    "- List of teams and number of superbowls won\r\n",
    "- Minimum and maximum points scored by winning teams\r\n",
    "- States hosting the most superbowls"
   ],
   "metadata": {}
  },
  {
   "cell_type": "code",
   "execution_count": null,
   "source": [
    "print('Number of Superbowl Wins')\r\n",
    "superbowl_df['Winner'].value_counts()"
   ],
   "outputs": [],
   "metadata": {}
  },
  {
   "cell_type": "code",
   "execution_count": null,
   "source": [
    "print('Minimum number of points scored by winning team = ', superbowl_df['Winner Pts'].min())\r\n",
    "print('Maximum number of points scored by winning team = ',superbowl_df['Winner Pts'].max())"
   ],
   "outputs": [],
   "metadata": {}
  },
  {
   "cell_type": "code",
   "execution_count": null,
   "source": [
    "print('States hosting the most superbowls')\r\n",
    "superbowl_df['State'].value_counts()[:5]\r\n",
    "\r\n"
   ],
   "outputs": [],
   "metadata": {}
  },
  {
   "cell_type": "markdown",
   "source": [
    "## Bonus: Export a Meaningful Visualization\r\n",
    "\r\n",
    "(Use the guidance in the book to get started!)"
   ],
   "metadata": {}
  },
  {
   "cell_type": "code",
   "execution_count": null,
   "source": [],
   "outputs": [],
   "metadata": {}
  }
 ],
 "metadata": {
  "orig_nbformat": 4,
  "language_info": {
   "name": "python",
   "version": "3.8.8",
   "mimetype": "text/x-python",
   "codemirror_mode": {
    "name": "ipython",
    "version": 3
   },
   "pygments_lexer": "ipython3",
   "nbconvert_exporter": "python",
   "file_extension": ".py"
  },
  "kernelspec": {
   "name": "python3",
   "display_name": "Python 3.8.8 64-bit ('base': conda)"
  },
  "interpreter": {
   "hash": "db64136dc4130c2dda380bc0ce411ffaa0317e9a9f99d4dbeea1fc56cb102fad"
  }
 },
 "nbformat": 4,
 "nbformat_minor": 2
}