{
 "cells": [
  {
   "cell_type": "markdown",
   "source": [
    "# Exercise Six: Structured Data with Beautiful Soup and Pandas\r\n",
    "\r\n",
    "This week, you'll be revisiting some of the exercises we started this semester, but with more powerful tools. Instead of pulling raw HTML from a website, you'll use the structured data scraping methods to draw a dictionary of data from the web using Beautiful Soup, then parse and display it using Pandas.\r\n",
    "\r\n",
    "As with last week, fill in the documentation as you go through each stage. Make sure to pick a site with a clear data structure for your analysis.\r\n",
    "\r\n",
    "\r\n",
    "\r\n",
    "## Stage Five: Plot some Aspect of the Data\r\n",
    "## Bonus Stage: Add On\r\n",
    "\r\n",
    "Try:\r\n",
    "\r\n",
    "- Iterating through multiple pages (all the pages of a database, for instance)\r\n",
    "\r\n",
    "- Visualizing using another method from our discussion or readings\r\n",
    "\r\n",
    "- Storing your data and / or visualization for external analysis"
   ],
   "metadata": {}
  },
  {
   "cell_type": "markdown",
   "source": [
    "## Stage One: Import the libraries and Scrape your Page"
   ],
   "metadata": {}
  },
  {
   "cell_type": "code",
   "execution_count": 16,
   "source": [
    "import requests\r\n",
    "from bs4 import BeautifulSoup\r\n",
    "import pandas as pd\r\n",
    "\r\n"
   ],
   "outputs": [],
   "metadata": {}
  },
  {
   "cell_type": "code",
   "execution_count": 17,
   "source": [
    "url = 'https://www.metacritic.com/game/playstation-4/madden-nfl-20/user-reviews'\r\n",
    "\r\n",
    "user_agent = {'User-agent': 'Mozilla/5.0'}\r\n",
    "response = requests.get(url, headers = user_agent)\r\n",
    "\r\n",
    "soup = BeautifulSoup(response.text, 'html.parser')"
   ],
   "outputs": [],
   "metadata": {}
  },
  {
   "cell_type": "markdown",
   "source": [
    "## Stage Two: Define an Empty Dictionary Reflecting the Data Categories"
   ],
   "metadata": {}
  },
  {
   "cell_type": "code",
   "execution_count": 18,
   "source": [
    "review_dict = {'name':[], 'date':[], 'rating':[], 'review':[]}"
   ],
   "outputs": [],
   "metadata": {}
  },
  {
   "cell_type": "markdown",
   "source": [
    "## Stage Three: Loop through and Store Structured Data"
   ],
   "metadata": {}
  },
  {
   "cell_type": "code",
   "execution_count": 19,
   "source": [
    "# we are finding every review in the text\r\n",
    "# need to look at content (inspect code) of website to find the name classes that contain what we want\r\n",
    "\r\n",
    "#look for review_content tags since every user review has this tag\r\n",
    "\r\n",
    " \r\n",
    "for review in soup.find_all('div', class_='review_content'): \r\n",
    "    if review.find('div', class_='name') == None:\r\n",
    "        # break is important so that if the there is no name, give up and try the next thing in the loop\r\n",
    "        break \r\n",
    "    # but if there is a name, go and find everything else\r\n",
    "    # we are telling how to create the data frame\r\n",
    "    review_dict['name'].append(review.find('div', class_='name').find('a').text)\r\n",
    "    review_dict['date'].append(review.find('div', class_='date').text)\r\n",
    "    review_dict['rating'].append(review.find('div', class_='review_grade').find_all('div')[0].text)\r\n",
    "    # there are three types of reviews we have to deal with, \r\n",
    "    # how to handle expanded blurb\r\n",
    "    # how to handle ratings only without text\r\n",
    "    if review.find('span', class_='blurb blurb_expanded'): \r\n",
    "        review_dict['review'].append(review.find('span', class_='blurb blurb_expanded').text)\r\n",
    "        print(review.find('span', class_='blurb blurb_expanded').text)\r\n",
    "    elif review.find('div',class_='review_body').find('span') == None:\r\n",
    "        review_dict['review'].append('No review text.')\r\n",
    "        print(\"No review\")\r\n",
    "    else:\r\n",
    "        review_dict['review'].append(review.find('div',class_='review_body').find('span').text)\r\n",
    "        print(review.find('div',class_='review_body').find('span').text)"
   ],
   "outputs": [
    {
     "output_type": "stream",
     "name": "stdout",
     "text": [
      " They've stripped the fun out of anything that is not related to MUT... do we need to ask ourselves why or are we smart enough to figure out they are doing everything they can to funnel players into the cash shop?\n",
      "Grats EA... you hit the pinical of garbage... every year you sell the same game over and over yet you pay reviewers to give good scores... **** you, just... **** you.\n",
      "Face of franchise is just a stupid little 2 game section that spits you into last years player controlled franchise mode play style.  The passing controls are frustrating.  The graphics are not that better from last year.  Madden ultimate team is basically the same as last year.  They didn't even bother to update anything the announcers say.  This is a downgrade from last years version.  If your looking to buy a madden game,  buy the better 2019 version and play that for a year to see if 2021 version is any better.  This game is a waste of money.\n",
      "Game regressed for the first time ever. Awful unfinished game. Plays like it in alpha. Servers also suck and can end a mut season for you. Don’t buy!!\n",
      "welche sich einfach nicht weiter und in einigen Fällen auch zurück entwickeln.\n",
      "Just another EA sports title where nothing has been updated since the last, except they now have more microtransactions than ever. Seriously guys, if you want to support the game industry and help stop this gambling virus that is plaguing the industry, then don't buy any of these EA games, not any time soon.\n",
      " I will say you will enjoy this game if you want Madden 2018 with an updated roster or if you enjoy spending real life money for digital collecting cards\n",
      "It's a fresh coat of paint and nothing more, anyone paying full price for this is insane (I regret buying madden 17-19 full price) we need competition in the football game genre, this is a disgrace\n",
      "Madden 20 has the exact same create a character faces as 19 and has nothing new worth raving over stop EA just STOP\n",
      "Literally the worst football game I’ve ever played. Still ran by poor animations, No fluid mechanics. Story mode is complete garbage. 2k PLEASE save us from EA. I will NEVER play another madden game again after this.\n",
      "Utter garbage, yet again from EA SPORTS.   TIRED of EA just looking for a quick cash grab every year.\n",
      "Complete Garbage.... EA must learn a lesson , Stop buying the trash they release!!!\n",
      "The game is the same as last year and even worse the removed the refs during the the play. Do not buy this game, take the 60$ and invest it its a way better alternative.\n",
      "Same ol same ol' Madden for the past 3 years, Code=Ctrl+C, Ctrl+V, Save. Seriously, check out some of the reviews. There honestly is Madden 19 banners in the practice game. Absolutely unforgivable EA. And this is 100 year anniversary for the NFL? NFL, fire EA!!\n",
      "Literally created an account to help people save their money on this dumpster fire EA claims is a football simulator.I've been playing for a few days (PS4) and the plethora of glitches/terrible AI makes this seem more like a beta than anything. So far this is what I've seen in All-Pro simulation.1. CBs will sometimes run away from receiver in man coverage (without any fakes or change of direction from the WR).2. Kick meter disappears (usually in 3rd or 4th quarters)3. CPU will go for it on 4th down in the 4th quarter even during laughable blow outs (most recent was a 45 - 3 game with 4 mins left to play)4. CPU will also attempt onside kicks during blowouts, the more frustrating aspect is that the game will not allow you (in my experience) to audible into the formation to counter their onside kick attempt.5. AI defenders (even all pros like Kuechly) often watch the ball sail near them with no reaction.6. CPU receivers (even average receivers) seem to always make highly contested spectacular catches.7. When attempting press coverage with a safety blitz the safety(ies) will run back to their usual safety position upon adjusting coverage to press. While attempting to reposition the safety to be brought back to the line of scrimmage only to face the sideline (or sometimes even turn his back to the offense) after switching to another defender.8. Man Coverage in this game is essentially useless on 3rd down(or when CPU begins 2 minute drill), even the best CBs in the game get burned regularly.In the end if you were expecting a \"polished\" experience as has been advertised you will be quite disappointed, this game is more like 3-4 / 10 with all the bugs, if they cleaned it up it would definitely be a 7 because there are some interesting new mechanics (X-factor). It is EA after all though and they have proven to be inept at creating a true NFL simulator so I wouldn't hold my breath waiting for them to fix anything, also don't waste your money, buy something that does what it was meant to do.\n",
      "The games are all pre-determined. Oh you have a game winning drive? Nope, your NFL receiver will drop a wide open pass with no defenders in sight, because the game doesn't want you to win. Oh you for sure will stop the opponent's game winning drive to seal the deal? Nope, their mediocre tight end is gonna make a one handed grab on fourth down while in triple coverage.\n",
      "This game is a frustrating mess. I rented this from redbox last night after a 5 year hiatus on this franchise. No game mode is satisfying. Sure Face of the Franchise and MUT try and rope you in, but after 30+ minutes in to either mode you realize how broken this game is. RBs run really awful routes in FotF mode, and having dabled in play now mode...that too. The play calling has somehow gone back 30 years, you can't even call a specific back or WR for a certain scheme. Really glad I rented this before purchasing, guess I'll wait another 5 years to see if they get their act together.\n",
      "This is literally the worst game i have ever played. This madden sucks so bad. The tackling is utter garbage. The defenders are complete morons that stand there watching the ball carriers run right by. God forbid someone tries a arm tackle. Everything sucks about this game. Legit trash.\n",
      "The animation seems to be smoother, yet still glitchy as can be. I was an avid ultimate team guy, but now you can just spend and spend and spend. Why does $100 dollars....$100 **** dollars only guarantee me one good player?! Are you kidding me?!? At least let me pick the elite player I would like....I mean what....!?! Even if I have a 89 overall receiver when the game drops, somehow a guys 73 gold corners blanket him. It’s just a huge cash grab. Man coverage doesn’t work, safeties miss their assignments all the time. Players can just motion a receiver to the other side of the field and nobody will man up on him with glitchy wheel routes or just straight up HB user.No added depth to the game, features continue to dwindle in game modes. Same presentation as last year, same corny commentary, every game sounds exactly the same they never say anything different. You’d think a game that makes over $800 million on just micro transactions would be able to make a smoother running game. I’d rather play madden 06, it literally had more features. Then you have idiots from EA saying they can’t add more helmets to the game because of video memory?!?! Mother **** You had over 100 helmets in the NCAA games on **** PS2s?!?! **** this game man. It feels the same as Madden 25...still...\n",
      "The game is bad! Microtransactions rule the game, franchise continues to get neglected. MUT gets all the attention and it's basically pay 2 win.\n",
      "I do not give out zeroes lightly. As a matter of fact, I've never given a game a zero. Since I've been burned so many times by Madden, starting with Madden 13, I've just been renting this from redbox every year to try it out. Wow, this game deserves a zero and there is really no reason to go into details. Just read the critic and user reviews here and it tells you all you need to know. I just want to say that it's crazy when the first Madden I ever played, Madden '99 on PS1, had better overall gameplay than this trash. Even the  franchise mode back then was better than this garbage. The last even decent madden game was 2012, and the franchise has seriously fallen off from the pinnacle, which was Madden 10, featuring such revolutions as proper blocking and gang tackles. LOL. This is what happens when you get rid of competition. There is no more innovation. No one pushing the envelope and trying to produce the best possible product they can. 2k basketball seems to be suffering the same fate, but it's still a decent product overall honestly.\n",
      "Waste of every NFL fans time and money. Wish this company would just go under already.\n",
      "I firmly believe either A) the critics were paid or B) they just flat our lie. As of now there is no critic negative review. Yet.... the game is absolute filthy (in a bad way). I was done with the AI. I was done with the glitchy running. I was done with the same gameplay with minor graphic tweaks but not gameplay improvements. This game gets a 2 because of the NCAA play.\n",
      "This game is utter garbage. Anyone buying thisn cash grab should take a good look at their life choices and make a change. EA keeps putting out the half ass, regurgitated crap every year and the Madden faithful eat that garbage up.\n",
      "Just complete and utter garbage. They consistently do nothing to improve any of the modes that don't make them money from microtransactions. Franchise hasn't had an upgrade in years and the \"big\" new feature this year is the pro bowl, which was already in Madden in the past.\n",
      " DO NOT BUY THIS GAME. IT ISN\"T WORTH EVEN 20 DOLLARS, IT SHOULD BE FREE TO PLAY.\n",
      "absolute trash, same exact game as like 3 years before. The people at EA have the best jobs, they get paid for doing nothing every year.\n",
      "This game is absolute garbage and is a carbon copy of madden 19 and madden 18 with very minor changes\n",
      "Same microtransaction BS as the last few years. Same garbage character creation as the last few years. Same bugs as the last few years. Literally the same garbage football game as the last few years, but with a slightly altered user interface. Oh, and they added Pro bowl back to the game, they took it out just to add it back in again as a \"new\" feature\n",
      "I finally convinced myself to stop drinking the koolaid and not buy it this year. It’s been the same game for years! Animations are trash, AI is numb, franchise mode is boring and never changing, create a player is 20 years old, no collected stats, no historical stats, no coaching saga, no o or d coordinators, sidelines have been designed by a 3rd grader, Graphics don’t evolve, Commentary is generic, repetitive and unrealistic. No actually TV game presentation. No emphasis on Monday or Thursday night games, do they even acknowledge preseason games? no historic teams, don’t even get me started on Maddens off season. Just take a look at madden 08 for a better representation. The game is 15 years behind. EA needs to wipe the slate clean and take a good look at the 2K series of FOOTBALL GAMES and change, overcome and adapt. NBA 2K is the correct way to design a sports game, giving the user complete control. They are losing customers by the year and I most certainly am one of them until something changes. Hopefully they put their best foot forward with the PS5 platform. 59.99 for this every year? It’s not even worth 39.99 at this point.  As for now “EA SPORTS. It’s NOT in the game!” I’m out!\n",
      "The NFL made a huge mistake. Please end the exclusive rights agreement with EA! This game is bad & hasn’t changed in years. Sad times...\n",
      "MUT = We put all our efforts here because it generates money\n",
      "THIS GAME IS NOT POSSIBLE. I JUST WANT TO PLAY FOOTBALL ONLINE THEN SOME GUYS COME AND PLAYS WITH GLITCHES MAKES IMPOSSIBLE INTERCEPTIONS BLA BLA BLA. HOW COULD ANYONE INTERCEPT A PASS WITHOUT LOOKING THE BALL SINCE THROWN. MULTIPLAYER SIDE IS TRASH. OTHER WAY FRANCHISE MODE IS NOT GOING ANYWHERE AFTER ONE YEAR. THIS GAME IS WORTH A CHEWED GUM NOT  60 DOLLARS. IF I HAD ONE WISH I WOULD CHOOSE TO SEND EVERYONE INVOLVED THIS GAME TO NAZI CONCENTRATION CAMPS AND **** THEIR ENTIRE LINEAGE UNTIL THEY HAVE A ****ING TUMOR .th\n",
      "Anybody who rate this over 80 are clearly dumb ass and love to spend money like whore.   This game has be taken off ALOTS so then you end up paying more for stuffs .Nothing has improved from previous game , maybe just the game play.   All of this is limited and garbage all over the place.   Anything with EA and Sport game, I quit.  No more cause I had it. Madden 2004 and 2012 was the best experience and then it got worst because it's greeds.  It could have be awesome but EA care more about their wallet and investor than us to have tones of fun. It's sad really and they just lost a loyalty player, no more.   They just chopped off part of the game from every release and make you buy part back, it's ridiculous.\n",
      " Speak with your wallets those that are upset about this for years now,  and those that are fine with this, YOU are ruining gaming by being compliant to this current corrupt Triple A gaming economy. STOP giving them money for half assed efforts! It didn't use to be like this just 10 to 15 years ago, games were actually released on day one completed with tons of content already included for $60! The modern consumer is being bamboozled like idiot lemmings just blindly accepting trash gaming products, like EA's latest scam release, Madden 20.\n",
      "This game is painfully average. I wanted more from Face of the Franchise and the gameplay in general, but it's better than Madden 19, which was atrocious. I'd take 2K5 with updated rosters over this game, so only get this game when it's on sale. It's not worth sixty bucks.\n",
      "This is not a good game. Franchise is still not good at all. They pretty much didnt do anything besides the pro bowl. Whinch should not be the games selling point. Its a normal part of the NFL season. They are still missing create a team, training camp, offensive coordinaters, (sorry if spelling is off) newspapers (and not the bland social media thing they have been using since madden 13),   position battles,  and even more. I like the scenraio engine. But it could get bland after a while. They also decided not to upgrade the relocation as they have the same designs. Face of the franchise is pretty much the create a player with the franchise (With the college football playoff games). But still the story is cringe and you still cant even skip the cutscenes. After the playoff ends. Its pretty much create a player that you use in franchise. Superstar x factor is one of the only good things about the game. As now superstars play well like superstars. Gameplay got alot better as it feels more smooth on both offense and defense. But its not like there still problems. Computer AI is still lazy at times and it is still scripted at points. MUT is still the best mode. Whinch isnt saying much. I do not enjoy it. But for hat its trying to put out. Its fine. But  the game is still awful. As franchise is still shallow and Face of the franchise is not what it was hyped up to be. In my opinion im giving Madden 20 a 4/10.\n",
      "I laughed the entire time playing this game. It’s sooooooo glitchy a lot of the times they would tell me I got a touchdown when I never crossed the goal line and the animations are terrible.\n",
      "Total garbage AI gameplay. Every game will have several mind blowing terrible plays, which stand out as very far from reality. This is not an overstatement and is unacceptable this far into the franchise.\n",
      "Madden name is equal with the Yearly hidden downgrades system. Targeting young kids who can't figure this out ,yet and empty they pocket with micro transactions. Quality worst and worst every year, graphic , animation, physics......everything. Les and less , worst and worst. They try to hide it with a huge \"magic trick\" manipulation  and with young kids it is works. (Not they fault) This year Madden is look like a video game from the 2000 . Don't trust check it. Madden community should boycott this game and all the next till they don't make a 2020 update mint new game. EA this year step across the red line . DON'T BUY IT.\n",
      "they should just be honest and call it Madden Ultimate Team the game. MUT mode is ruining this franchise, they refuse to make improvements to any other mode.\n",
      "Pay 60 bucks for a game that is literally an \"update\" of the last one, something that games like Fortnite do for FREE. Don´t buy it this is a robbery, the only thing that you will achieve is help EA to infect gaming.\n",
      " Do not buy Madden NFL 21.\n",
      "- Lastly, there is just no immersion in Madden. The only mode they put time into is a mode to create a fantasy team of players, and the game doesn't focus at all on features that would make it a realistic football simulator. HARD PASS.\n",
      "It's still fun to play at times but especially the scripted plays ruin it every single time. EA don't care about you as a player so you shouldn't buy this game until it goes on sale.\n",
      "The game is the same. Like it is always. Cept its a worse version of the one you can get on a **** emulator of a ps2.\n",
      "So I've been playing Madden 14 for a couple of years now, is it possible to release a new one?\n",
      "This game is horrific recycled garbage. Franchise mode still has zero character customizations for create a player and the other modes are only slightly better. MUT mode is still a main focus and if you support that garbage still at this point you’re part of the problem on why nothing else in this game gets fixed and they remove features just to bring them back and act like they are “brand new.”If you’re not absolutely discussed by the lack of effort or care in this recycled series and aren’t disgusted with MUT mode the. Just compare the $79.99 Verizon of the game this year to last year. You get less stuff and if you want last years $79.99 pack you have to pay $99.99 this year. EA is treating us like we are dumb **** morons at this point and if we all don’t wake up collectively this **** will never change!\n",
      "This game is bad. I'm no internet troll and I love alot of games critically reviewed as bad, but the gaming websites are clearly in EAs pocket to give this game decent reviews charging 80 bucks (Canada) for this game is disgusting. Not to mention the micro transactions\n",
      "EA Madden 20 Once again PROVES that they are the laziest, smallest minded, non progressive sports title ripoffs in existence.  Independent football titles have been more innovative in 1 year than Madden has been in 10.  EA Madden 20 overall score...... 0.0 out of 10.\n",
      "Go ahead and spend $60 for to watch some cut scenes and open card packs. Same franchise mode, same commentary, same customize selections, and terrible soundtrack.\n",
      "Game is boring and stale even with the \"new\" x factor. It is also very glitchy and seemes like you get cheated out last minute by impossible or improbable plays.\n",
      "Its already been stated in other reviews posted. I mean...practice in game-day uniforms? Really? Madden is repetitive trash. Its a sad era for pro football games.\n",
      "Where do I start? It seems like every year there's bugs all over the place like a multi billion dollar gaming company is too dumb or lazy to fix the same rehashed game that comes out every year with a refreshed generic paint job of a main menu, and updated roster.The AI plays dumb and runs away from receivers like a waterboy scared to get hit by the football, plus you have supposed new features that have been here 10 years ago. Like your fan base are stupid drones and will eat any garbage you spew out.This gets a zero from me because of pure laziness, insult of intelligence and mind numbing stupidity on EAs part. Can't wait until their license is stripped away.\n",
      "What in the actual f*** EA!? You literally copied and pasted Madden 19 (which was horrible btw) on to a new CD. I gave this game two weeks and I was absolutely disgusted!!!! I can’t even make a list of everything wrong with this game.  You have monopolized football fans and now the whole world hates you. Everything you added was shallow and not even fun!!! All you did was switch out old crappy rap songs for new crappy rap songs, added a shallow story mode that actually made last two years story modes seem like a “good story,” stripped the play books, oh and the pro bowl is back? Cool! NOT!!! It’s ONE game! You added one game with different 32 helmets, bravo guys. Good job copy and pasting. Horrible!!!!!!!!!!!!!! I wasted my money. Thanks for robbing money from me for the past 3 years.\n",
      " Stay as far away from this game as humanly possible.\n",
      "I’ve been playing madden for 30 years. Extremely Disappointed. They simply repackaged Madden 19 into this.  I rented it from redbox, played one game and returned it. EA clearly is looking for transaction revenues (new rosters and trading cards) at the expense of solid game development. Capitalism at its best. No pride in your product, just make as much as you can. Live off your name for years.\n",
      "Garbage ass game. Receivers drop every pass, you have less than 2 seconds to throw the ball but quarterbacks have a full second throwing animation so you can’t make a proper read, and receivers still drop possession catches. Horrible game I promise do not buy\n",
      "It’s funny because I bought it USED, a day after it publicly released from GameStop. The first sign. Limited, dual scripted animations have ruined the game. The DB turn into Receiver animation is the worst **** I’ve ever seen. Even when I click on the Receiver to make a user type catch, the god damn CPU animation takes over.  Tackles, fumbles, and reactions are ridiculous, zone coverage is broken , and why Can’t I play as anything other than a QB in that weak ass my player story mode. SMH I started playing Madden again with 18. From really enjoying Madden 20 05.I played that new 2k20 demo though and I’m definitely trading this **** in too.\n",
      "They find a way to make a terrible game even worse congrats! Save yourself the money and buy literally any other game.\n",
      "Lazy retread game please do not buy.  Horrible plays and animations. Fumbles every 3 plays. Embarrassing for the 7th game of this generation.\n",
      "This game is horrible Madden just keeps going downhill Animation and player logic is horrid. I miss the good ole days when football was fun.\n",
      "I made an account solely to rate this game. Hands down the worst piece of **** game I’ve ever unfortunately spent my money on. Broken gameplay. Laggy menus. Awful online experiences. No upgrades to any game modes. Franchise is the worst time I’ve ever had playing a video games.\n",
      "Game is so trash. Unfortunately it’s the only football game around. Just got done playing a game online, that almost had me take the disc out and break. The game always has advantages set to one side of the players. I had three occasions where the game cheated In the first half. And led to the other player having a 17-7 lead. First occasion was a had manually user my player to block his tight end, he through it to him. What should of been a guaranteed lurk and pick, was a drop picked by my user. Next was another pass by opponent that was thrown directly to my guy who drops it. This was the same drive, then the final straw was. It was 4&1, he ran up the middle which I put a all blitz and guess run up the middle. Guess what the middle was wide open. And not only did he get the first down, he got the touchdown. This game is trash and deserves to be thrown in the trash. So glad I didn’t buy and got it for free. Not worth 60$ maybe 10$ game is trash. 0/10.\n",
      "By the far the buggiest game that I've ever played. Can barely finish a franchise game without something just weird for gameplay standards to happen. Its not worth the 20 dollars I paid you can tell its not a finished or thought out project whatsoever. Just all around extremely pathetic attempt at not only a football game but a video game in general. Take some time off and build off the foundation that 2k5 amd Madden 08 put down.\n",
      "Every year it always seems to be something wrong or just off with madden. Its a shame when the players on the field put out a great product week in and week out... and this is what they get in return. Its embarrassing, maybe one year we can get the madden game we want and deserve.\n",
      "How. . . . . Ea needs to give up the rights to the NFL so another company can put together a Football game that the gamers want.\n",
      "Haven't even played it. Just came here to say the past two have been hot garbage. An unrealistic representation of nfl football. Wish 2K could get the license back so we could have some competition. Just wait for it to release on EA access after the super bowl if you want to try this version. That's what I do nowadays cuz $60 is way too much for this sad attempt  at NFL football.\n",
      "This game was a waste of money. The CPU gets an unfair advantage. Like their receiver that's rated 79 overall makes an impossible catch in the middle of three defenders. But my 90 overall receiver gets intercepted when they are ahead 4 to 5 steps. It's a wonder how teams that gets Molly whopped in real life, come up with spectacular wins on the game. The whole point of this game is to win. Like it's good for a challenge, but Madden needs to significantly tone down the CPU advantage .\n",
      "I still shamelessly buy madden every year, my favourite game mode is franchise mode...Franchise mode is so plain these days it’s just not been changed for a long time. Please EA give us a deep franchise mode! Also like can we please change the throwing mechanics? Why can’t I throw a goal line fade to Julio Jones?\n",
      "Mediocre Halfbacks can knock out a 350-lb Defensive Lineman, The entire offensive line forgets how to block, Quarterbacks fumble every time they touch the football, the CPU's Cornerbacks can run across the field to pick the ball off, and the list goes on. Even Franchise Mode feels the same, the only thing they did was add custom draft classes and called it a day. If the game crashes and you go back into the game, it just gives you 0 points in every quarter after you are done playing. It's almost like EA doesn't want anyone to play their \"game\". There is no strategy in this game. This game is so poorly made that the only plays some people use are the same exact ones because the CPU and most Users can't stop them. Even in games like Madden 17, this wouldn't happen. Interceptions are scripted. I and others get 4+ picks a game because the newer Maddens have made it to where you can move 10 yards to the right, and run back for an easy interception. In real football, this would never happen. This game is extremely bad. Sometimes I can't tell if EA was making an NFL game or a FIFA game. It's off the charts in every category, and not in a good way. This Series has gone from one of the most well-liked, to complete laughing stock. Maybe one day we will get a realistic madden but for now, this version is terrible.\n",
      "Slightly better than 19 which was arguably the worst football game ever made by EA. 20’s new features are ripped out of previous madden games just thrown back in. Game is glitchy in every aspect with clips to prove it post day one patch. Time to sell the license.\n",
      "This game is horrible,  its graphics are seriously dated and look likes a last gen title. The customization of the characters is extremely lacking and has the same amount of customization as madden 19. And don't even get me started with the Super star edition, you get even less the last years madden 19’s bonuses! Ea is such a greedy, scummy corporation and I would advise you to stay far far away from they’re games!\n",
      "This my last madden buying this **** is trash every year s/o Ryan Moody Brodie speak facts\n",
      "Defensive AI is still horrible, blocking AI, all AI isn’t basically mentally disabled. It’s ok to play because it’s the only recent new football release. But EA have too much money and resources available to put out such a poor game. But well it looks good and the game sites and magazines still give glowing reviews.\n",
      "This game is honestly so frustrating. As a Madden NFL fan/Player since a kid I have always loved playing football games every year when they released; however, over the last few years this game has been the EXACT SAME with updated rosters and a few “new” features here and there, even though most “new” features were features brought BACK from previous Madden football games. I usually love to play online head to head games of Madden but with this year it’s almost unbearable. I’ve had multiple games where it never loads and kicks me back to the screen which results In counting as a loss even though I never once touched the playing field. I’ve also had multiple losses online due to the lack of AI intelligence, Animation bugs, etc etc. players will catch footballs through CBs hands and the lack of the ability to challenge plays on the most crucial plays of the game is also infuriating. Why is the challenge function even in the game if I can never use it?? I lost a game because Julio Jones ran out of bounds and my defender stopped covering him thinking the play was over, only to have Julio Jones step in bounds, catch the ball, and be called for a touchdown. I couldn’t challenge the ruling in the field. And the lack of AI common sense also didn’t allow for a booth review, which would ALWAYS happen in REAL FOOTBALL,  it cost me a game. And it’s really frustrating seeing this year in and year out. This is another cash grab, and will most likely be the last time I spend my hard earned money on a madden football game for the foreseeable future. I wasted my money this year for a cash grab from EA. Don’t do what I did. Save your money, time, and hours of frustrating heartache. Buy the new Call of Duty, Borderlands, or any other game than Madden. Trust me.\n",
      "This is literally the worst madden ever. EA should be ashamed of themselves for stealing money from people who bought this game. This should be a crime. The gameplay is horrific. Nothing depicts actual (NFL) gameplay, but players name and physical looks. The amount of glitches in this game are obscene. Defensive players are able to make miraculous interceptions with extreme consistency. Defensive players are better at playing the ball than offensive players. Any novice can win a game because it doesn’t take skill to get glitches to go your way. The online gameplay is disgusting. And you have no control over situations. It is a script and it’s remedial to even waste your time playing this b***s***. EA should submit an apology to everyone who bought this game. And give you a $120 voucher for 2 games of your choosing. PLEASE PLEASE DO NOT BUY THIS GAME. This is coming from an avid madden player who has stuck with this game through thick and thin, but enough is enough. I’m calling EA Sports bluff. THE CREATORS SHOULD BE ARRESTED AND SENTENCED TO TIME IN PRISON.\n",
      "It's buggy like no other. The QB wind up is so long that you cant make a quick pass to save your life. The passing is a joke, your WR can be wide open and your QB can be standing still and you dont even touch the stick just use a touch pass and he will throw it nowhere near the WR i wasted money on this game and i wont be buying another Madden game again\n",
      "It’s a buggy mess at times and EA only supports two of the modes for their game. It’s disappointing because it’s the only NFL game out there which is why people buy it. Madden Ultimate Team and Superstar K.O are the modes they pay the most attention to and they barely touch the other modes.\n",
      "Community: Can we get a deeper franchise , a gameplay that is less reliant on animations and bug fixes please .EA: We hear you and we know exactly what you want , here are the Migo’s .19.01.20 Uninstalled .\n",
      "This isn’t a football game at all! They pay NO attention to how the game is actually played and put all their time and effort into MUT. Superstar KO is pointless. Franchise is still neglected. QB1 is pointless after your college games. Very redundant game thanks to scripted gameplay and horrible AI, which makes it boring after one season of franchise (if you even get that far).\n",
      "Same thing every damn year. Madden 08 had way more components than this and its been 12 years. Just let go of the damn license EA. You are a disgrace to gaming community and football.\n",
      "Madden has great potential, and probably great devs but they only spent time adding cool colors and cover athletes to appeal to kids. EA removed all good features after Madden 13 because they couldn't transfer all the coding to PS4, and yet 8 years later they haven't brought back a single feature and if they do it's for marketing like the pro bowl, like create a team for example isn't that hard to do, but they only want to appeal to FUT fetuses who pay all their mom's money on a useless gamemode\n",
      " Madden 20 is the \"best\" Madden game on current-gen consoles, game-play and depth wise, but we as frustrated players know that it can be so much more than a yearly cash-grab for EA.\n",
      "Terrible, they keep adding old game modes back and saying there new and the gameplay is horrible.  Animations are terrible and all they care about is ultimate team.\n",
      "I really enjoy the game but, the jump of difficulty from all-pro to all madden is ridiculous. All pro doesn’t even provide a challenge where as when I play on madden it is challenging but the main problem I have is fumbling, I will be running with an xfactor running back (also turned fumbling off because it pissed me off so much) and they will still strip me it is ridiculous\n",
      "created an account just to say how much I hate this game and series. Haven't had fun with Madden since '12. Would rather play head coach or madden 08 on pc than this garbage. no depth to franchise mode, all their energy seems to go to MUT. I do not find MUT fun or appealing. Bring back squads with regular teams. Bring realism, depth and consistency to franchise mode. At the very least, make me feel like you give a **** about anything other than getting as much money as you can from me.\n",
      "This game has gone way to Arcadey...I remember playing \"John Madden Football\" way back in the day, wasted alot of college time on my Fantasy Draft Franchise back in the early 2000's. Nowt his game is taking on an NFL Blitz type style and the MUT mode is ridiculous with the card updates and rating garbage. Remember when EA was\" If it's in the game, it's in the game\" SIMULATION STYLE.?!. Now the millennials have gotten a hold of it and ruined it much like they do everything else.\n",
      "This game is awful. I dont even want to talk about to be honest. This could be my review for any madden on the ps4, and for good reason. Every Madden has been buggy and each in their own special ways. Except in this case, not the good type of special. Not only that EA is probably not listening to us because they are too busy riding their yachts that millions of 12 years olds paid for with their parents credit cards\n",
      "#FixFranchise#DefundMaddenTerrible franchise anymore, sorry to see this once great franchise end up like this.\n",
      "The game has no user control everything is just animation driven every gamemode has no love at all, and seems to be a copy past from Madden19. Face of the Franchise? play two games on the championship and get drafted, afterwards? only franchse mode with nothing to do in it. Madden Ultimate Team ads on every loading screen. Who ever try to defend this game is just.... blind. Yes some new animations and some new scripted animations for some situations but its annoying to see you receiver plays out the false animation and you can't do nothing about it. Look at the last madden bowl, the guy won the madden bowl with a Punter and no throw at all (only run because it the game can't simulate real football at all).\n",
      " This game sucks. I've hated what EA has done to a once great series.\n",
      "Very glitchy and animation dependent as opposed to skill; franchise was extremely neglected.\n",
      "the game is trash. but what is worse than that is microtransactions. they manipulate young kids to waste a lot of money and gamble. the same game every year with less content and more cost. this is not how a video game should be\n",
      "Wow udder trash. Animations are outdated. You get sucked into tacklers. Lack of fluid anything honestly. Menus have changed thats about it.\n",
      "Just crap. Franchise mode gameplay is basically a movie. Attempting to play defensive line even when having dominant stats doesn’t help, cannot get through EVER. Attempt to jump to left at snap won’t work if it’s predetermined that you should jump right. Marcus Mariota in 2028 is dominating my 88 rated defense with receivers averaging 77. My 95 rated AB is once again unable to complete any long passes against a defense that “guesses” perfectly most plays. This is a current example of what happens most games. Only saving grace is I got it on sale for around $10\n",
      "This game's franchise mode is absolutely unacceptable for a multi million dollar company\n",
      "This game has absolutely nothing new, other than the new X-Factors. Completely neglected franchise, and only built upon MUT as that is their cash cow.\n",
      "This game is proof that EA SPORTS is in fact, NOT in the game. Zone coverage is broken and defender AI is so bad that the winner of the madden bowl ran one broken play with a punter at QB THE ENTIRE TOURNAMENT. The gameplay has no physics and thus is an animation based mess that you have no impact over. Franchise is untouched, the only major difference is the presentation and the scenario engine which is you guessed it, broken. ever since 2008, it lost Create-A-Team, In Depth stat tracking, Position battles, Create-A-Play, and much more. Face of the franchise is outright bad. you go through a story for 10 minutes then just get booted into the worst franchise mode in sports games. Ultimate team is pay to win garbage, and it doesn't carry over to the next game. it is just a draw to get kids to spends there parents money on card packs. DONT BUY THIS GAME. GET MADDEN 08 OR ESPN NFL 2k5\n",
      "Buggy gameplay, same glitch's since madden 25. Still lacks content compared to ps2 predecessor.\n"
     ]
    }
   ],
   "metadata": {}
  },
  {
   "cell_type": "markdown",
   "source": [
    "## Stage Four: Convert from Dictionary to DataFrame and Display"
   ],
   "metadata": {}
  },
  {
   "cell_type": "code",
   "execution_count": 20,
   "source": [
    "madden_reviews = pd.DataFrame(review_dict)"
   ],
   "outputs": [],
   "metadata": {}
  },
  {
   "cell_type": "code",
   "execution_count": 21,
   "source": [
    "madden_reviews"
   ],
   "outputs": [
    {
     "output_type": "execute_result",
     "data": {
      "text/html": [
       "<div>\n",
       "<style scoped>\n",
       "    .dataframe tbody tr th:only-of-type {\n",
       "        vertical-align: middle;\n",
       "    }\n",
       "\n",
       "    .dataframe tbody tr th {\n",
       "        vertical-align: top;\n",
       "    }\n",
       "\n",
       "    .dataframe thead th {\n",
       "        text-align: right;\n",
       "    }\n",
       "</style>\n",
       "<table border=\"1\" class=\"dataframe\">\n",
       "  <thead>\n",
       "    <tr style=\"text-align: right;\">\n",
       "      <th></th>\n",
       "      <th>name</th>\n",
       "      <th>date</th>\n",
       "      <th>rating</th>\n",
       "      <th>review</th>\n",
       "    </tr>\n",
       "  </thead>\n",
       "  <tbody>\n",
       "    <tr>\n",
       "      <th>0</th>\n",
       "      <td>CaseyMoe</td>\n",
       "      <td>Jul 31, 2019</td>\n",
       "      <td>4</td>\n",
       "      <td>10 years ago I was dreaming of how amazing Mad...</td>\n",
       "    </tr>\n",
       "    <tr>\n",
       "      <th>1</th>\n",
       "      <td>Kris511c</td>\n",
       "      <td>Aug  9, 2019</td>\n",
       "      <td>0</td>\n",
       "      <td>Grats EA... you hit the pinical of garbage... ...</td>\n",
       "    </tr>\n",
       "    <tr>\n",
       "      <th>2</th>\n",
       "      <td>remolian</td>\n",
       "      <td>Jul 30, 2019</td>\n",
       "      <td>2</td>\n",
       "      <td>Face of franchise is just a stupid little 2 ga...</td>\n",
       "    </tr>\n",
       "    <tr>\n",
       "      <th>3</th>\n",
       "      <td>ngio626</td>\n",
       "      <td>Aug  6, 2019</td>\n",
       "      <td>0</td>\n",
       "      <td>Game regressed for the first time ever. Awful ...</td>\n",
       "    </tr>\n",
       "    <tr>\n",
       "      <th>4</th>\n",
       "      <td>RoyaviDesu</td>\n",
       "      <td>Aug  2, 2019</td>\n",
       "      <td>0</td>\n",
       "      <td>Das Spiel entwickelt sich kein Stück weiter un...</td>\n",
       "    </tr>\n",
       "    <tr>\n",
       "      <th>...</th>\n",
       "      <td>...</td>\n",
       "      <td>...</td>\n",
       "      <td>...</td>\n",
       "      <td>...</td>\n",
       "    </tr>\n",
       "    <tr>\n",
       "      <th>95</th>\n",
       "      <td>Disco_Kick_It</td>\n",
       "      <td>Aug  2, 2020</td>\n",
       "      <td>2</td>\n",
       "      <td>Just crap. Franchise mode gameplay is basicall...</td>\n",
       "    </tr>\n",
       "    <tr>\n",
       "      <th>96</th>\n",
       "      <td>ianbott923</td>\n",
       "      <td>Aug  9, 2020</td>\n",
       "      <td>0</td>\n",
       "      <td>This game's franchise mode is absolutely unacc...</td>\n",
       "    </tr>\n",
       "    <tr>\n",
       "      <th>97</th>\n",
       "      <td>MaddenIsAss</td>\n",
       "      <td>Aug 14, 2020</td>\n",
       "      <td>0</td>\n",
       "      <td>This game has absolutely nothing new, other th...</td>\n",
       "    </tr>\n",
       "    <tr>\n",
       "      <th>98</th>\n",
       "      <td>camyo</td>\n",
       "      <td>Aug 21, 2020</td>\n",
       "      <td>0</td>\n",
       "      <td>This game is proof that EA SPORTS is in fact, ...</td>\n",
       "    </tr>\n",
       "    <tr>\n",
       "      <th>99</th>\n",
       "      <td>Pyromad</td>\n",
       "      <td>Aug 21, 2020</td>\n",
       "      <td>0</td>\n",
       "      <td>Buggy gameplay, same glitch's since madden 25....</td>\n",
       "    </tr>\n",
       "  </tbody>\n",
       "</table>\n",
       "<p>100 rows × 4 columns</p>\n",
       "</div>"
      ],
      "text/plain": [
       "             name          date rating  \\\n",
       "0        CaseyMoe  Jul 31, 2019      4   \n",
       "1        Kris511c  Aug  9, 2019      0   \n",
       "2        remolian  Jul 30, 2019      2   \n",
       "3         ngio626  Aug  6, 2019      0   \n",
       "4      RoyaviDesu  Aug  2, 2019      0   \n",
       "..            ...           ...    ...   \n",
       "95  Disco_Kick_It  Aug  2, 2020      2   \n",
       "96     ianbott923  Aug  9, 2020      0   \n",
       "97    MaddenIsAss  Aug 14, 2020      0   \n",
       "98          camyo  Aug 21, 2020      0   \n",
       "99        Pyromad  Aug 21, 2020      0   \n",
       "\n",
       "                                               review  \n",
       "0   10 years ago I was dreaming of how amazing Mad...  \n",
       "1   Grats EA... you hit the pinical of garbage... ...  \n",
       "2   Face of franchise is just a stupid little 2 ga...  \n",
       "3   Game regressed for the first time ever. Awful ...  \n",
       "4   Das Spiel entwickelt sich kein Stück weiter un...  \n",
       "..                                                ...  \n",
       "95  Just crap. Franchise mode gameplay is basicall...  \n",
       "96  This game's franchise mode is absolutely unacc...  \n",
       "97  This game has absolutely nothing new, other th...  \n",
       "98  This game is proof that EA SPORTS is in fact, ...  \n",
       "99  Buggy gameplay, same glitch's since madden 25....  \n",
       "\n",
       "[100 rows x 4 columns]"
      ]
     },
     "metadata": {},
     "execution_count": 21
    }
   ],
   "metadata": {}
  },
  {
   "cell_type": "markdown",
   "source": [
    "## Stage Five: Plot some Aspect of the Data"
   ],
   "metadata": {}
  },
  {
   "cell_type": "code",
   "execution_count": 36,
   "source": [
    "madden_reviews['rating'].value_counts().plot(kind='pie',title=\"Madden NFL 20 Game Ratings\")\r\n",
    "\r\n",
    "print('The user reviews indictated that this version of Madden reviewed poorly')"
   ],
   "outputs": [
    {
     "output_type": "stream",
     "name": "stdout",
     "text": [
      "The user reviews indictated that this version of Madden reviewed poorly\n"
     ]
    },
    {
     "output_type": "display_data",
     "data": {
      "image/png": "[encoded data removed]",
      "text/plain": [
       "<Figure size 432x288 with 1 Axes>"
      ]
     },
     "metadata": {}
    }
   ],
   "metadata": {}
  }
 ],
 "metadata": {
  "orig_nbformat": 4,
  "language_info": {
   "name": "python",
   "version": "3.8.11",
   "mimetype": "text/x-python",
   "codemirror_mode": {
    "name": "ipython",
    "version": 3
   },
   "pygments_lexer": "ipython3",
   "nbconvert_exporter": "python",
   "file_extension": ".py"
  },
  "kernelspec": {
   "name": "python3",
   "display_name": "Python 3.8.11 64-bit ('base': conda)"
  },
  "interpreter": {
   "hash": "db64136dc4130c2dda380bc0ce411ffaa0317e9a9f99d4dbeea1fc56cb102fad"
  }
 },
 "nbformat": 4,
 "nbformat_minor": 2
}