{
 "cells": [
  {
   "cell_type": "markdown",
   "metadata": {},
   "source": [
    "# Exercise Ten: Mapping, Twitter Style\n",
    "In this week's exercise, we will be working from the class demo. To use the live features, you'll need to get a Twitter account approved through the Developer Portal as reviewed in class. If you can't get approval, you can use the alternate method of importing your data via TAGS\n",
    "\n",
    "Your application should:\n",
    "\n",
    "- Import or collect tweets using a keyword or hashtag. Watch your rate limiting!\n",
    "- Use Pandas to sort and analyze your tweets.\n",
    "- Calculate user coordinates, where feasible, for the set of collected tweets. Again, watch your rate limiting!\n",
    "- Map the tweets using the calculated locations.\n",
    "- Use at least one data visualization from a previous exercise, demo, or the course text to analyze a different element of your tweets.\n",
    "\n",
    "As a bonus challenge, try to map some other quality of your data. For instance, you might only map the locations where a certain word or hashtag is used, or try to visualize the quantity of tweets that share a location using a larger radius dot."
   ]
  },
  {
   "cell_type": "markdown",
   "metadata": {},
   "source": [
    "## Import Tweets"
   ]
  },
  {
   "cell_type": "code",
   "execution_count": 11,
   "metadata": {},
   "outputs": [
    {
     "data": {
      "text/plain": [
       "['credentials.ini']"
      ]
     },
     "execution_count": 11,
     "metadata": {},
     "output_type": "execute_result"
    }
   ],
   "source": [
    "import configparser\n",
    "CONFIG = configparser.ConfigParser()\n",
    "CONFIG.read('credentials.ini')"
   ]
  },
  {
   "cell_type": "code",
   "execution_count": 12,
   "metadata": {},
   "outputs": [
    {
     "name": "stdout",
     "output_type": "stream",
     "text": [
      "A DNA analysis confirmed that Ernie LaPointe, a South Dakota writer, is the great-grandson of Sitting Bull, a legen… https://t.co/VNu7tzBwKH\n",
      "So much to do this weekend and next. And the weather is finally perfect for it all. Details:… https://t.co/2ENLClGZcz\n",
      "Breaking News: Letitia James, the New York attorney general, declared her bid for governor. She oversaw the sexual… https://t.co/Cw3pA07m3y\n",
      "The rapper Fetty Wap was arrested by FBI agents at Citi Field on Thursday, the first night of the Rolling Loud musi… https://t.co/Rau5YmRFVO\n",
      "💍 Planning a Disney-themed wedding off property might take some extra work and extra creativity, but it also helps… https://t.co/6IgnJve0wl\n",
      "Annual inflation is climbing at the fastest pace in three decades in the U.S. as prices for couches, cars and housi… https://t.co/UkhlS9UMfJ\n",
      "RT @ShanaVWhite: “Move slower and empower people.” -@ruha9\n",
      "When the female crime writer Carmen Mola won one of Spain's biggest literary awards, three men came to collect the… https://t.co/vzCIuGW1Rx\n",
      "Queen Elizabeth II advised by doctors to rest for at least another two weeks, Buckingham Palace says\n",
      "https://t.co/eEPXS6KaX7\n",
      "This bank is charting further expansion in metro #Orlando. Here's more. \n",
      "\n",
      "#localbusiness #businessnews… https://t.co/zgVzlxJWs8\n",
      "A mural of a sun and two children of color wearing crowns, intended to promote racial equity, has exposed long-simm… https://t.co/wgOknuo6jS\n",
      "Halloween costumes inspired by the Netflix hit \"Squid Game\" have been banned by three elementary schools in Central… https://t.co/DhEofXx9As\n",
      "Lawyers for Hannah Gutierrez-Reed, the armorer for the Alec Baldwin film \"Rust,\" said she had \"no idea\" how live ro… https://t.co/wKy2rugj62\n",
      "The FDA is expected to authorize Pfizer's Covid-19 vaccine for emergency use in children 5 to 11 on Friday. The sho… https://t.co/czXjMkAYzz\n",
      "🍽 There are so many snacks and meals in Disney World's Holiday Foodie Guide I can't wait to try! Let's chat about t… https://t.co/UTvruzRvTd\n",
      "ICYMI: Genie+me https://t.co/uRSyLD4yTb\n",
      "Women often make better investors than men. Over a 10-year period, women earned, on average, 0.4 percentage points… https://t.co/CGSFxFRYiN\n",
      "Ahead of a closely watched meeting with his French counterpart, President Biden said the US was \"clumsy\" in its han… https://t.co/7EXkPJyBGH\n",
      "RT @SuperWeenieHtJr: Lord Of The Swings: The Two Towers https://t.co/PGuz6PsrtI\n",
      "RT @Siqi_MIT: Our search is open! Please help spread the word: MIT Department of Urban Studies and Planning (DUSP) and  Center for Real Est…\n"
     ]
    }
   ],
   "source": [
    "\n",
    "import tweepy\n",
    "\n",
    "auth = tweepy.OAuthHandler(CONFIG['DEFAULT']['consumer_key'], CONFIG['DEFAULT']['consumer_secret'])\n",
    "auth.set_access_token(CONFIG['DEFAULT']['access_token'], CONFIG['DEFAULT']['access_token_secret'])\n",
    "\n",
    "api = tweepy.API(auth, wait_on_rate_limit=True)\n",
    "\n",
    "public_tweets = api.home_timeline()\n",
    "for tweet in public_tweets:\n",
    "    print(tweet.text)"
   ]
  }
 ],
 "metadata": {
  "interpreter": {
   "hash": "db64136dc4130c2dda380bc0ce411ffaa0317e9a9f99d4dbeea1fc56cb102fad"
  },
  "kernelspec": {
   "display_name": "Python 3.8.11 64-bit ('base': conda)",
   "name": "python3"
  },
  "language_info": {
   "codemirror_mode": {
    "name": "ipython",
    "version": 3
   },
   "file_extension": ".py",
   "mimetype": "text/x-python",
   "name": "python",
   "nbconvert_exporter": "python",
   "pygments_lexer": "ipython3",
   "version": "3.8.11"
  },
  "orig_nbformat": 4
 },
 "nbformat": 4,
 "nbformat_minor": 2
}
