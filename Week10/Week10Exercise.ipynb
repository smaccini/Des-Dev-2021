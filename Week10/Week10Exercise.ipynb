{
 "cells": [
  {
   "cell_type": "markdown",
   "metadata": {},
   "source": [
    "# Exercise Ten: Mapping, Twitter Style\n",
    "In this week's exercise, we will be working from the class demo. To use the live features, you'll need to get a Twitter account approved through the Developer Portal as reviewed in class. If you can't get approval, you can use the alternate method of importing your data via TAGS\n",
    "\n",
    "Your application should:\n",
    "\n",
    "- Import or collect tweets using a keyword or hashtag. Watch your rate limiting!\n",
    "- Use Pandas to sort and analyze your tweets.\n",
    "- Calculate user coordinates, where feasible, for the set of collected tweets. Again, watch your rate limiting!\n",
    "- Map the tweets using the calculated locations.\n",
    "- Use at least one data visualization from a previous exercise, demo, or the course text to analyze a different element of your tweets.\n",
    "\n",
    "As a bonus challenge, try to map some other quality of your data. For instance, you might only map the locations where a certain word or hashtag is used, or try to visualize the quantity of tweets that share a location using a larger radius dot."
   ]
  },
  {
   "cell_type": "markdown",
   "metadata": {},
   "source": [
    "## Import Tweets\n",
    "\n",
    "- A geographical analysis of Twitter users interested in visiting National Parks using the #FindYourPark hashtag.\n",
    "- Per guidance (thank you again), created a separate ini file to store Twitter Developer credentials.\n",
    "- Sampled 300 Tweets from the month of October as in the example."
   ]
  },
  {
   "cell_type": "code",
   "execution_count": 11,
   "metadata": {},
   "outputs": [
    {
     "data": {
      "text/plain": [
       "['credentials.ini']"
      ]
     },
     "execution_count": 11,
     "metadata": {},
     "output_type": "execute_result"
    }
   ],
   "source": [
    "import configparser\n",
    "CONFIG = configparser.ConfigParser()\n",
    "CONFIG.read('credentials.ini')\n",
    "\n"
   ]
  },
  {
   "cell_type": "code",
   "execution_count": 12,
   "metadata": {},
   "outputs": [
    {
     "name": "stdout",
     "output_type": "stream",
     "text": [
      "A DNA analysis confirmed that Ernie LaPointe, a South Dakota writer, is the great-grandson of Sitting Bull, a legen… https://t.co/VNu7tzBwKH\n",
      "So much to do this weekend and next. And the weather is finally perfect for it all. Details:… https://t.co/2ENLClGZcz\n",
      "Breaking News: Letitia James, the New York attorney general, declared her bid for governor. She oversaw the sexual… https://t.co/Cw3pA07m3y\n",
      "The rapper Fetty Wap was arrested by FBI agents at Citi Field on Thursday, the first night of the Rolling Loud musi… https://t.co/Rau5YmRFVO\n",
      "💍 Planning a Disney-themed wedding off property might take some extra work and extra creativity, but it also helps… https://t.co/6IgnJve0wl\n",
      "Annual inflation is climbing at the fastest pace in three decades in the U.S. as prices for couches, cars and housi… https://t.co/UkhlS9UMfJ\n",
      "RT @ShanaVWhite: “Move slower and empower people.” -@ruha9\n",
      "When the female crime writer Carmen Mola won one of Spain's biggest literary awards, three men came to collect the… https://t.co/vzCIuGW1Rx\n",
      "Queen Elizabeth II advised by doctors to rest for at least another two weeks, Buckingham Palace says\n",
      "https://t.co/eEPXS6KaX7\n",
      "This bank is charting further expansion in metro #Orlando. Here's more. \n",
      "\n",
      "#localbusiness #businessnews… https://t.co/zgVzlxJWs8\n",
      "A mural of a sun and two children of color wearing crowns, intended to promote racial equity, has exposed long-simm… https://t.co/wgOknuo6jS\n",
      "Halloween costumes inspired by the Netflix hit \"Squid Game\" have been banned by three elementary schools in Central… https://t.co/DhEofXx9As\n",
      "Lawyers for Hannah Gutierrez-Reed, the armorer for the Alec Baldwin film \"Rust,\" said she had \"no idea\" how live ro… https://t.co/wKy2rugj62\n",
      "The FDA is expected to authorize Pfizer's Covid-19 vaccine for emergency use in children 5 to 11 on Friday. The sho… https://t.co/czXjMkAYzz\n",
      "🍽 There are so many snacks and meals in Disney World's Holiday Foodie Guide I can't wait to try! Let's chat about t… https://t.co/UTvruzRvTd\n",
      "ICYMI: Genie+me https://t.co/uRSyLD4yTb\n",
      "Women often make better investors than men. Over a 10-year period, women earned, on average, 0.4 percentage points… https://t.co/CGSFxFRYiN\n",
      "Ahead of a closely watched meeting with his French counterpart, President Biden said the US was \"clumsy\" in its han… https://t.co/7EXkPJyBGH\n",
      "RT @SuperWeenieHtJr: Lord Of The Swings: The Two Towers https://t.co/PGuz6PsrtI\n",
      "RT @Siqi_MIT: Our search is open! Please help spread the word: MIT Department of Urban Studies and Planning (DUSP) and  Center for Real Est…\n"
     ]
    }
   ],
   "source": [
    "import tweepy\n",
    "\n",
    "auth = tweepy.OAuthHandler(CONFIG['DEFAULT']['consumer_key'], CONFIG['DEFAULT']['consumer_secret'])\n",
    "auth.set_access_token(CONFIG['DEFAULT']['access_token'], CONFIG['DEFAULT']['access_token_secret'])\n",
    "\n",
    "api = tweepy.API(auth, wait_on_rate_limit=True)\n",
    "\n",
    "public_tweets = api.home_timeline()\n",
    "for tweet in public_tweets:\n",
    "    print(tweet.text)"
   ]
  },
  {
   "cell_type": "code",
   "execution_count": 13,
   "metadata": {},
   "outputs": [],
   "source": [
    "import pandas as pd\n",
    "\n",
    "search_words = \"#FindYourPark\"\n",
    "date_since = \"2021-10-01\"\n",
    "tweets = tweepy.Cursor(api.search_tweets,\n",
    "              q=search_words, lang=\"en\").items(300)\n",
    "\n",
    "tweets_sorted = [[tweet.user.screen_name, tweet.geo, tweet.user.location, tweet.text] for tweet in tweets]"
   ]
  },
  {
   "cell_type": "markdown",
   "metadata": {},
   "source": [
    "## Using Pandas to sort and analyze Tweets"
   ]
  },
  {
   "cell_type": "code",
   "execution_count": 14,
   "metadata": {},
   "outputs": [
    {
     "name": "stdout",
     "output_type": "stream",
     "text": [
      "                user                                        coordinates  \\\n",
      "0    iwasthere102908                                               None   \n",
      "1    DiamondDreamsVR                                               None   \n",
      "2     Roger_Osorio22  {'type': 'Point', 'coordinates': [35.38828162,...   \n",
      "3      wander_filled                                               None   \n",
      "4      ms_magallanes                                               None   \n",
      "..               ...                                                ...   \n",
      "295          SheilaS                                               None   \n",
      "296      UESociology                                               None   \n",
      "297    GraemeBWilson                                               None   \n",
      "298    Nv_pyromelana                                               None   \n",
      "299    GreatBasinNPS                                               None   \n",
      "\n",
      "              location                                              tweet  \n",
      "0    Pennsylvania, USA  RT @INDEPENDENCENHP: Discover what \"all men cr...  \n",
      "1    Philadelphia, USA  RT @IHTrust: It's a beautiful Fall day at @IND...  \n",
      "2         Wyoming, USA  What a beautiful building. Can't wait to retur...  \n",
      "3        Woodstock, GA  Who knew we would have so much fun tubing a ri...  \n",
      "4           Texas, USA  RT @dayhikingtrails: Great trails also surroun...  \n",
      "..                 ...                                                ...  \n",
      "295  Round Rock, Texas  Looking for an outdoor getaway near Austin / @...  \n",
      "296     Evansville, IN  Beautiful view of Yosemite after recent storms...  \n",
      "297  Denholm, Scotland  RT @CavernsNPS: Brazilian free-tailed bats can...  \n",
      "298             Nevada  RT @CavernsNPS: Brazilian free-tailed bats can...  \n",
      "299          Baker, NV  RT @CavernsNPS: Brazilian free-tailed bats can...  \n",
      "\n",
      "[300 rows x 4 columns]\n"
     ]
    }
   ],
   "source": [
    "tdf = pd.DataFrame(data=tweets_sorted, columns=['user', 'coordinates','location', 'tweet'])\n",
    "print(tdf)"
   ]
  },
  {
   "cell_type": "code",
   "execution_count": 15,
   "metadata": {},
   "outputs": [
    {
     "name": "stdout",
     "output_type": "stream",
     "text": [
      "                       63\n",
      "Washington, DC         11\n",
      "Austin, TX              9\n",
      "Wyoming, USA            9\n",
      "Philadelphia            6\n",
      "                       ..\n",
      "Manhattanland           1\n",
      "Hudson County, N.J.     1\n",
      "Seattle                 1\n",
      "Russia, Lipetsk         1\n",
      "Baker, NV               1\n",
      "Name: location, Length: 157, dtype: int64\n"
     ]
    }
   ],
   "source": [
    "locs = tdf['location'].value_counts()\n",
    "print(locs)"
   ]
  },
  {
   "cell_type": "markdown",
   "metadata": {},
   "source": [
    "## Calculating user coordinates where feasible."
   ]
  },
  {
   "cell_type": "code",
   "execution_count": null,
   "metadata": {},
   "outputs": [],
   "source": []
  }
 ],
 "metadata": {
  "interpreter": {
   "hash": "db64136dc4130c2dda380bc0ce411ffaa0317e9a9f99d4dbeea1fc56cb102fad"
  },
  "kernelspec": {
   "display_name": "Python 3.8.11 64-bit ('base': conda)",
   "name": "python3"
  },
  "language_info": {
   "codemirror_mode": {
    "name": "ipython",
    "version": 3
   },
   "file_extension": ".py",
   "mimetype": "text/x-python",
   "name": "python",
   "nbconvert_exporter": "python",
   "pygments_lexer": "ipython3",
   "version": "3.8.11"
  },
  "orig_nbformat": 4
 },
 "nbformat": 4,
 "nbformat_minor": 2
}
