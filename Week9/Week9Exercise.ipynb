{
 "cells": [
  {
   "cell_type": "markdown",
   "metadata": {},
   "source": [
    "# Exercise Nine: Numbers\n",
    "This week, you'll be exploring the GSS dataset we worked within in the \"Social Stats\" exercise. Using our demo and the textbook as a guide, pick three new variables to explore. Your workflow should:\n",
    "\n",
    "- Import the current version of the file (available for download at the link above), and isolate the columns of interest based on the variables you want to include\n",
    "- Using the variable navigator provided by GSS, determine the years applicable and narrow your dataset accordingly.\n",
    "- Visualize at least two quantiative relationships or patterns: these might include connections between clear numerical values, such as age and income, or more complex visualizations based on boolean data (for example, our \"yes\" and \"no\" to reading fiction.)\n",
    "- Group the data using at least two different divisions to spot interesting trends, and plot at least one variance across a group (refer to our example of happiness among fiction readers as a starting point.)\n",
    "  \n",
    "For a bonus challenge, try running another analysis using an advanced method such as summary statistics or cross tabulation."
   ]
  },
  {
   "cell_type": "markdown",
   "metadata": {},
   "source": [
    "## Import GSS File and Isolate Columns of Interest\n",
    "\n",
    "GSS File not synced on GitHub per in class instructions on Git Ignore\n",
    "\n",
    "Variables selected:  \n",
    "- Demographics:  id, year, age, sex, race, degree, realrinc, region\n",
    "- howfree = How much freedom do you think Americans have today? Would you say they have complete freedom, a great deal of freedom,\n",
    "a moderate degree of freedom, not much freedom, or no freedom at all?\n",
    "- freenow = Do you think Americans today have more freedom, less freedom, or about the same amount of freedom as in the past?\n",
    "- satdemoc = On the whole, are you very satisfied, fairly satisfied, not very satisfied, or not at all satisfied with the way democracy works in the United States?\n",
    "  \n",
    "\n"
   ]
  },
  {
   "cell_type": "code",
   "execution_count": 15,
   "metadata": {},
   "outputs": [],
   "source": [
    "import pandas as pd\n",
    "\n",
    "columns = ['id', 'year', 'age', 'sex', 'race', 'degree', 'realrinc', 'region', 'howfree', 'freenow', 'satdemoc']\n",
    "df = pd.read_stata(\"GSS7218_R1.dta\", columns=columns)"
   ]
  },
  {
   "cell_type": "markdown",
   "metadata": {},
   "source": [
    "## Limit to Years Applicable\n",
    "## Limit to Exclude those who left age and/or realrinc blank\n",
    "\n",
    "The data appears to be collected in years 2000-2004.  \n",
    "(This would be much more interesting if it was also collected currently.)"
   ]
  },
  {
   "cell_type": "code",
   "execution_count": 16,
   "metadata": {},
   "outputs": [
    {
     "name": "stdout",
     "output_type": "stream",
     "text": [
      "<bound method NDFrame.head of          id  year   age     sex   race          degree realrinc  \\\n",
      "38116     1  2000  26.0    male  white        bachelor   5985.0   \n",
      "38117     2  2000  48.0  female  white     HIGH SCHOOL   5985.0   \n",
      "38118     3  2000  67.0  female  white     HIGH SCHOOL      NaN   \n",
      "38119     4  2000  39.0  female  white     HIGH SCHOOL      NaN   \n",
      "38120     5  2000  25.0  female  white  JUNIOR COLLEGE      NaN   \n",
      "...     ...   ...   ...     ...    ...             ...      ...   \n",
      "40928  2813  2000  80.0    male  white     HIGH SCHOOL      NaN   \n",
      "40929  2814  2000  29.0  female  white        bachelor   7481.0   \n",
      "40930  2815  2000  53.0    male  white  LT HIGH SCHOOL  18287.0   \n",
      "40931  2816  2000  38.0    male  white     HIGH SCHOOL  36575.0   \n",
      "40932  2817  2000  61.0  female  white        graduate   4987.0   \n",
      "\n",
      "                region                       howfree  \\\n",
      "38116  W. SOU. CENTRAL  A MODERATE DEGREE OF FREEDOM   \n",
      "38117  W. SOU. CENTRAL       A GREAT DEAL OF FREEDOM   \n",
      "38118  W. SOU. CENTRAL       A GREAT DEAL OF FREEDOM   \n",
      "38119  W. SOU. CENTRAL                           NaN   \n",
      "38120  W. SOU. CENTRAL                           NaN   \n",
      "...                ...                           ...   \n",
      "40928  E. NOR. CENTRAL                           NaN   \n",
      "40929  E. NOR. CENTRAL       A GREAT DEAL OF FREEDOM   \n",
      "40930  E. NOR. CENTRAL       A GREAT DEAL OF FREEDOM   \n",
      "40931  E. NOR. CENTRAL  A MODERATE DEGREE OF FREEDOM   \n",
      "40932  E. NOR. CENTRAL                           NaN   \n",
      "\n",
      "                                freenow            satdemoc  \n",
      "38116                      MORE FREEDOM  NOT VERY SATISFIED  \n",
      "38117                      MORE FREEDOM                 NaN  \n",
      "38118                      LESS FREEDOM    FAIRLY SATISFIED  \n",
      "38119                               NaN                 NaN  \n",
      "38120                               NaN                 NaN  \n",
      "...                                 ...                 ...  \n",
      "40928                               NaN                 NaN  \n",
      "40929  ABOUT THE SAME AMOUNT OF FREEDOM    FAIRLY SATISFIED  \n",
      "40930  ABOUT THE SAME AMOUNT OF FREEDOM    FAIRLY SATISFIED  \n",
      "40931  ABOUT THE SAME AMOUNT OF FREEDOM  NOT VERY SATISFIED  \n",
      "40932                               NaN                 NaN  \n",
      "\n",
      "[2817 rows x 11 columns]>\n"
     ]
    }
   ],
   "source": [
    "df = df.loc[df['year'].isin({2000:2004})]\n",
    "print(df.head)"
   ]
  },
  {
   "cell_type": "code",
   "execution_count": 17,
   "metadata": {},
   "outputs": [
    {
     "name": "stdout",
     "output_type": "stream",
     "text": [
      "<bound method NDFrame.head of          id  year   age     sex   race          degree realrinc  \\\n",
      "38116     1  2000  26.0    male  white        bachelor   5985.0   \n",
      "38117     2  2000  48.0  female  white     HIGH SCHOOL   5985.0   \n",
      "38121     6  2000  25.0  female  white     HIGH SCHOOL  14131.0   \n",
      "38122     7  2000  36.0    male  white     HIGH SCHOOL  18287.0   \n",
      "38123     8  2000  44.0  female  white  JUNIOR COLLEGE   4987.0   \n",
      "...     ...   ...   ...     ...    ...             ...      ...   \n",
      "40927  2812  2000  62.0    male  white     HIGH SCHOOL  18287.0   \n",
      "40929  2814  2000  29.0  female  white        bachelor   7481.0   \n",
      "40930  2815  2000  53.0    male  white  LT HIGH SCHOOL  18287.0   \n",
      "40931  2816  2000  38.0    male  white     HIGH SCHOOL  36575.0   \n",
      "40932  2817  2000  61.0  female  white        graduate   4987.0   \n",
      "\n",
      "                region                       howfree  \\\n",
      "38116  W. SOU. CENTRAL  A MODERATE DEGREE OF FREEDOM   \n",
      "38117  W. SOU. CENTRAL       A GREAT DEAL OF FREEDOM   \n",
      "38121  W. SOU. CENTRAL                           NaN   \n",
      "38122  W. SOU. CENTRAL                           NaN   \n",
      "38123  W. SOU. CENTRAL                           NaN   \n",
      "...                ...                           ...   \n",
      "40927  E. NOR. CENTRAL       A GREAT DEAL OF FREEDOM   \n",
      "40929  E. NOR. CENTRAL       A GREAT DEAL OF FREEDOM   \n",
      "40930  E. NOR. CENTRAL       A GREAT DEAL OF FREEDOM   \n",
      "40931  E. NOR. CENTRAL  A MODERATE DEGREE OF FREEDOM   \n",
      "40932  E. NOR. CENTRAL                           NaN   \n",
      "\n",
      "                                freenow            satdemoc  \n",
      "38116                      MORE FREEDOM  NOT VERY SATISFIED  \n",
      "38117                      MORE FREEDOM                 NaN  \n",
      "38121                               NaN                 NaN  \n",
      "38122                               NaN                 NaN  \n",
      "38123                               NaN                 NaN  \n",
      "...                                 ...                 ...  \n",
      "40927                      MORE FREEDOM    FAIRLY SATISFIED  \n",
      "40929  ABOUT THE SAME AMOUNT OF FREEDOM    FAIRLY SATISFIED  \n",
      "40930  ABOUT THE SAME AMOUNT OF FREEDOM    FAIRLY SATISFIED  \n",
      "40931  ABOUT THE SAME AMOUNT OF FREEDOM  NOT VERY SATISFIED  \n",
      "40932                               NaN                 NaN  \n",
      "\n",
      "[1815 rows x 11 columns]>\n"
     ]
    }
   ],
   "source": [
    "df = df.loc[df['realrinc'].notnull()]\n",
    "df = df.loc[df['age'].notnull()]\n",
    "print(df.head)"
   ]
  },
  {
   "cell_type": "markdown",
   "metadata": {},
   "source": [
    "## Using the code block to adjust income for inflation\n",
    "\n",
    "Source for CPI = US Bureau of Labor Statistics"
   ]
  },
  {
   "cell_type": "code",
   "execution_count": 38,
   "metadata": {},
   "outputs": [
    {
     "name": "stdout",
     "output_type": "stream",
     "text": [
      "<bound method NDFrame.head of          id  year   age     sex   race          degree realrinc  \\\n",
      "38116     1  2000  26.0    male  white        bachelor   5985.0   \n",
      "38117     2  2000  48.0  female  white     HIGH SCHOOL   5985.0   \n",
      "38121     6  2000  25.0  female  white     HIGH SCHOOL  14131.0   \n",
      "38122     7  2000  36.0    male  white     HIGH SCHOOL  18287.0   \n",
      "38123     8  2000  44.0  female  white  JUNIOR COLLEGE   4987.0   \n",
      "...     ...   ...   ...     ...    ...             ...      ...   \n",
      "40927  2812  2000  62.0    male  white     HIGH SCHOOL  18287.0   \n",
      "40929  2814  2000  29.0  female  white        bachelor   7481.0   \n",
      "40930  2815  2000  53.0    male  white  LT HIGH SCHOOL  18287.0   \n",
      "40931  2816  2000  38.0    male  white     HIGH SCHOOL  36575.0   \n",
      "40932  2817  2000  61.0  female  white        graduate   4987.0   \n",
      "\n",
      "                region                       howfree  \\\n",
      "38116  W. SOU. CENTRAL  A MODERATE DEGREE OF FREEDOM   \n",
      "38117  W. SOU. CENTRAL       A GREAT DEAL OF FREEDOM   \n",
      "38121  W. SOU. CENTRAL                           NaN   \n",
      "38122  W. SOU. CENTRAL                           NaN   \n",
      "38123  W. SOU. CENTRAL                           NaN   \n",
      "...                ...                           ...   \n",
      "40927  E. NOR. CENTRAL       A GREAT DEAL OF FREEDOM   \n",
      "40929  E. NOR. CENTRAL       A GREAT DEAL OF FREEDOM   \n",
      "40930  E. NOR. CENTRAL       A GREAT DEAL OF FREEDOM   \n",
      "40931  E. NOR. CENTRAL  A MODERATE DEGREE OF FREEDOM   \n",
      "40932  E. NOR. CENTRAL                           NaN   \n",
      "\n",
      "                                freenow            satdemoc  realrinc2015  \\\n",
      "38116                      MORE FREEDOM  NOT VERY SATISFIED     9726.2235   \n",
      "38117                      MORE FREEDOM                 NaN     9726.2235   \n",
      "38121                               NaN                 NaN    22964.2881   \n",
      "38122                               NaN                 NaN    29718.2037   \n",
      "38123                               NaN                 NaN     8104.3737   \n",
      "...                                 ...                 ...           ...   \n",
      "40927                      MORE FREEDOM    FAIRLY SATISFIED    29718.2037   \n",
      "40929  ABOUT THE SAME AMOUNT OF FREEDOM    FAIRLY SATISFIED    12157.3731   \n",
      "40930  ABOUT THE SAME AMOUNT OF FREEDOM    FAIRLY SATISFIED    29718.2037   \n",
      "40931  ABOUT THE SAME AMOUNT OF FREEDOM  NOT VERY SATISFIED    59438.0325   \n",
      "40932                               NaN                 NaN     8104.3737   \n",
      "\n",
      "       realrinc2015_log10  realrinc2021  \n",
      "38116            4.111452     9726.2235  \n",
      "38117            4.111452     9726.2235  \n",
      "38121            4.484561    22964.2881  \n",
      "38122            4.596530    29718.2037  \n",
      "38123            4.032227     8104.3737  \n",
      "...                   ...           ...  \n",
      "40927            4.596530    29718.2037  \n",
      "40929            4.208347    12157.3731  \n",
      "40930            4.596530    29718.2037  \n",
      "40931            4.897572    59438.0325  \n",
      "40932            4.032227     8104.3737  \n",
      "\n",
      "[1815 rows x 14 columns]>\n",
      "<bound method NDFrame.head of          id  year   age     sex   race          degree realrinc  \\\n",
      "38116     1  2000  26.0    male  white        bachelor   5985.0   \n",
      "38117     2  2000  48.0  female  white     HIGH SCHOOL   5985.0   \n",
      "38121     6  2000  25.0  female  white     HIGH SCHOOL  14131.0   \n",
      "38122     7  2000  36.0    male  white     HIGH SCHOOL  18287.0   \n",
      "38123     8  2000  44.0  female  white  JUNIOR COLLEGE   4987.0   \n",
      "...     ...   ...   ...     ...    ...             ...      ...   \n",
      "40927  2812  2000  62.0    male  white     HIGH SCHOOL  18287.0   \n",
      "40929  2814  2000  29.0  female  white        bachelor   7481.0   \n",
      "40930  2815  2000  53.0    male  white  LT HIGH SCHOOL  18287.0   \n",
      "40931  2816  2000  38.0    male  white     HIGH SCHOOL  36575.0   \n",
      "40932  2817  2000  61.0  female  white        graduate   4987.0   \n",
      "\n",
      "                region                       howfree  \\\n",
      "38116  W. SOU. CENTRAL  A MODERATE DEGREE OF FREEDOM   \n",
      "38117  W. SOU. CENTRAL       A GREAT DEAL OF FREEDOM   \n",
      "38121  W. SOU. CENTRAL                           NaN   \n",
      "38122  W. SOU. CENTRAL                           NaN   \n",
      "38123  W. SOU. CENTRAL                           NaN   \n",
      "...                ...                           ...   \n",
      "40927  E. NOR. CENTRAL       A GREAT DEAL OF FREEDOM   \n",
      "40929  E. NOR. CENTRAL       A GREAT DEAL OF FREEDOM   \n",
      "40930  E. NOR. CENTRAL       A GREAT DEAL OF FREEDOM   \n",
      "40931  E. NOR. CENTRAL  A MODERATE DEGREE OF FREEDOM   \n",
      "40932  E. NOR. CENTRAL                           NaN   \n",
      "\n",
      "                                freenow            satdemoc  realrinc2015  \\\n",
      "38116                      MORE FREEDOM  NOT VERY SATISFIED     9726.2235   \n",
      "38117                      MORE FREEDOM                 NaN     9726.2235   \n",
      "38121                               NaN                 NaN    22964.2881   \n",
      "38122                               NaN                 NaN    29718.2037   \n",
      "38123                               NaN                 NaN     8104.3737   \n",
      "...                                 ...                 ...           ...   \n",
      "40927                      MORE FREEDOM    FAIRLY SATISFIED    29718.2037   \n",
      "40929  ABOUT THE SAME AMOUNT OF FREEDOM    FAIRLY SATISFIED    12157.3731   \n",
      "40930  ABOUT THE SAME AMOUNT OF FREEDOM    FAIRLY SATISFIED    29718.2037   \n",
      "40931  ABOUT THE SAME AMOUNT OF FREEDOM  NOT VERY SATISFIED    59438.0325   \n",
      "40932                               NaN                 NaN     8104.3737   \n",
      "\n",
      "       realrinc2015_log10  realrinc2021  \n",
      "38116            4.111452     9726.2235  \n",
      "38117            4.111452     9726.2235  \n",
      "38121            4.484561    22964.2881  \n",
      "38122            4.596530    29718.2037  \n",
      "38123            4.032227     8104.3737  \n",
      "...                   ...           ...  \n",
      "40927            4.596530    29718.2037  \n",
      "40929            4.208347    12157.3731  \n",
      "40930            4.596530    29718.2037  \n",
      "40931            4.897572    59438.0325  \n",
      "40932            4.032227     8104.3737  \n",
      "\n",
      "[1815 rows x 14 columns]>\n"
     ]
    }
   ],
   "source": [
    "df.loc[df['year'] == 2000, 'realrinc'].astype(float).min() == 333;\n",
    "round(df.loc[df['year'] == 2000, 'realrinc'].astype(float).mean(), 2) == 22110.13;\n",
    "print(df.head)\n",
    "\n",
    "cpi2021_vs_2000 = 162.51 / 100\n",
    "\n",
    "assert df['realrinc'].astype(float).median() < 24000  \n",
    "df['realrinc2021'] = cpi2021_vs_2000 * df['realrinc'].astype(float)\n",
    "print(df.head)"
   ]
  },
  {
   "cell_type": "markdown",
   "metadata": {},
   "source": [
    "## Visualize quantitative relationships\n",
    "\n",
    "1. region and income\n",
    "2. degree and income\n"
   ]
  },
  {
   "cell_type": "code",
   "execution_count": 46,
   "metadata": {},
   "outputs": [
    {
     "data": {
      "image/png": "[encoded data removed]",
      "text/plain": [
       "<Figure size 432x288 with 1 Axes>"
      ]
     },
     "metadata": {
      "needs_background": "light"
     },
     "output_type": "display_data"
    }
   ],
   "source": [
    "import matplotlib.pyplot as plt\n",
    "df.groupby('region')['realrinc2021'].plot(kind='hist', bins=30)\n",
    "plt.xlabel('Income')\n",
    "plt.legend();"
   ]
  },
  {
   "cell_type": "code",
   "execution_count": 51,
   "metadata": {},
   "outputs": [
    {
     "data": {
      "image/png": "[encoded data removed]",
      "text/plain": [
       "<Figure size 432x288 with 1 Axes>"
      ]
     },
     "metadata": {
      "needs_background": "light"
     },
     "output_type": "display_data"
    }
   ],
   "source": [
    "df.groupby('degree')['realrinc2021'].plot(kind='hist', bins=30)\n",
    "plt.xlabel('Income')\n",
    "plt.legend();"
   ]
  },
  {
   "cell_type": "markdown",
   "metadata": {},
   "source": [
    "## Group the data for interesting trends\n",
    "\n",
    "1. howfree and income\n",
    "2. freenow and income\n",
    "3. satdemoc and income\n",
    "\n",
    "\n",
    "Among income groups in 2000-2204, those feeling that freedom was waning were higher income, but at the same time higher income respondents appeared to be more satisfied with the state of democracy."
   ]
  },
  {
   "cell_type": "code",
   "execution_count": 43,
   "metadata": {},
   "outputs": [
    {
     "data": {
      "text/plain": [
       "howfree\n",
       "COMPLETE FREEDOM                20418.0\n",
       "A GREAT DEAL OF FREEDOM         23147.0\n",
       "A MODERATE DEGREE OF FREEDOM    21775.0\n",
       "NOT MUCH FREEDOM                10383.0\n",
       "NO FREEDOM AT ALL               18371.0\n",
       "Name: realrinc2021, dtype: float64"
      ]
     },
     "execution_count": 43,
     "metadata": {},
     "output_type": "execute_result"
    }
   ],
   "source": [
    "df.groupby('howfree')['realrinc2021'].mad().round()"
   ]
  },
  {
   "cell_type": "code",
   "execution_count": 40,
   "metadata": {},
   "outputs": [
    {
     "data": {
      "image/png": "[encoded data removed]",
      "text/plain": [
       "<Figure size 432x288 with 1 Axes>"
      ]
     },
     "metadata": {
      "needs_background": "light"
     },
     "output_type": "display_data"
    }
   ],
   "source": [
    "import matplotlib.pyplot as plt\n",
    "df.groupby('howfree')['realrinc2021'].plot(kind='hist', bins=30)\n",
    "plt.xlabel('Income')\n",
    "plt.legend();"
   ]
  },
  {
   "cell_type": "code",
   "execution_count": 44,
   "metadata": {},
   "outputs": [
    {
     "data": {
      "text/plain": [
       "freenow\n",
       "MORE FREEDOM                        21888.0\n",
       "ABOUT THE SAME AMOUNT OF FREEDOM    21278.0\n",
       "LESS FREEDOM                        25308.0\n",
       "Name: realrinc2021, dtype: float64"
      ]
     },
     "execution_count": 44,
     "metadata": {},
     "output_type": "execute_result"
    }
   ],
   "source": [
    "df.groupby('freenow')['realrinc2021'].mad().round()"
   ]
  },
  {
   "cell_type": "code",
   "execution_count": 41,
   "metadata": {},
   "outputs": [
    {
     "data": {
      "image/png": "[encoded data removed]",
      "text/plain": [
       "<Figure size 432x288 with 1 Axes>"
      ]
     },
     "metadata": {
      "needs_background": "light"
     },
     "output_type": "display_data"
    }
   ],
   "source": [
    "df.groupby('freenow')['realrinc2021'].plot(kind='hist', bins=30)\n",
    "plt.xlabel('Income')\n",
    "plt.legend();"
   ]
  },
  {
   "cell_type": "code",
   "execution_count": 45,
   "metadata": {},
   "outputs": [
    {
     "data": {
      "text/plain": [
       "satdemoc\n",
       "VERY SATISFIED          24140.0\n",
       "FAIRLY SATISFIED        22730.0\n",
       "NOT VERY SATISFIED      20030.0\n",
       "NOT AT ALL SATISFIED    14888.0\n",
       "Name: realrinc2021, dtype: float64"
      ]
     },
     "execution_count": 45,
     "metadata": {},
     "output_type": "execute_result"
    }
   ],
   "source": [
    "df.groupby('satdemoc')['realrinc2021'].mad().round()"
   ]
  },
  {
   "cell_type": "code",
   "execution_count": 42,
   "metadata": {},
   "outputs": [
    {
     "data": {
      "image/png": "[encoded data removed]",
      "text/plain": [
       "<Figure size 432x288 with 1 Axes>"
      ]
     },
     "metadata": {
      "needs_background": "light"
     },
     "output_type": "display_data"
    }
   ],
   "source": [
    "df.groupby('satdemoc')['realrinc2021'].plot(kind='hist', bins=30)\n",
    "plt.xlabel('Income')\n",
    "plt.legend();"
   ]
  },
  {
   "cell_type": "markdown",
   "metadata": {},
   "source": [
    "## Bonus Challenge - Crosstab"
   ]
  },
  {
   "cell_type": "code",
   "execution_count": 56,
   "metadata": {},
   "outputs": [
    {
     "data": {
      "text/html": [
       "<div>\n",
       "<style scoped>\n",
       "    .dataframe tbody tr th:only-of-type {\n",
       "        vertical-align: middle;\n",
       "    }\n",
       "\n",
       "    .dataframe tbody tr th {\n",
       "        vertical-align: top;\n",
       "    }\n",
       "\n",
       "    .dataframe thead th {\n",
       "        text-align: right;\n",
       "    }\n",
       "</style>\n",
       "<table border=\"1\" class=\"dataframe\">\n",
       "  <thead>\n",
       "    <tr style=\"text-align: right;\">\n",
       "      <th>howfree</th>\n",
       "      <th>COMPLETE FREEDOM</th>\n",
       "      <th>A GREAT DEAL OF FREEDOM</th>\n",
       "      <th>A MODERATE DEGREE OF FREEDOM</th>\n",
       "      <th>NOT MUCH FREEDOM</th>\n",
       "      <th>NO FREEDOM AT ALL</th>\n",
       "      <th>All</th>\n",
       "    </tr>\n",
       "    <tr>\n",
       "      <th>region</th>\n",
       "      <th></th>\n",
       "      <th></th>\n",
       "      <th></th>\n",
       "      <th></th>\n",
       "      <th></th>\n",
       "      <th></th>\n",
       "    </tr>\n",
       "  </thead>\n",
       "  <tbody>\n",
       "    <tr>\n",
       "      <th>NEW ENGLAND</th>\n",
       "      <td>5</td>\n",
       "      <td>25</td>\n",
       "      <td>15</td>\n",
       "      <td>0</td>\n",
       "      <td>0</td>\n",
       "      <td>45</td>\n",
       "    </tr>\n",
       "    <tr>\n",
       "      <th>MIDDLE ATLANTIC</th>\n",
       "      <td>14</td>\n",
       "      <td>83</td>\n",
       "      <td>37</td>\n",
       "      <td>4</td>\n",
       "      <td>0</td>\n",
       "      <td>138</td>\n",
       "    </tr>\n",
       "    <tr>\n",
       "      <th>E. NOR. CENTRAL</th>\n",
       "      <td>9</td>\n",
       "      <td>92</td>\n",
       "      <td>42</td>\n",
       "      <td>3</td>\n",
       "      <td>1</td>\n",
       "      <td>147</td>\n",
       "    </tr>\n",
       "    <tr>\n",
       "      <th>W. NOR. CENTRAL</th>\n",
       "      <td>10</td>\n",
       "      <td>43</td>\n",
       "      <td>17</td>\n",
       "      <td>3</td>\n",
       "      <td>0</td>\n",
       "      <td>73</td>\n",
       "    </tr>\n",
       "    <tr>\n",
       "      <th>SOUTH ATLANTIC</th>\n",
       "      <td>19</td>\n",
       "      <td>98</td>\n",
       "      <td>38</td>\n",
       "      <td>11</td>\n",
       "      <td>1</td>\n",
       "      <td>167</td>\n",
       "    </tr>\n",
       "    <tr>\n",
       "      <th>E. SOU. CENTRAL</th>\n",
       "      <td>7</td>\n",
       "      <td>31</td>\n",
       "      <td>21</td>\n",
       "      <td>4</td>\n",
       "      <td>0</td>\n",
       "      <td>63</td>\n",
       "    </tr>\n",
       "    <tr>\n",
       "      <th>W. SOU. CENTRAL</th>\n",
       "      <td>8</td>\n",
       "      <td>59</td>\n",
       "      <td>24</td>\n",
       "      <td>3</td>\n",
       "      <td>0</td>\n",
       "      <td>94</td>\n",
       "    </tr>\n",
       "    <tr>\n",
       "      <th>mountain</th>\n",
       "      <td>5</td>\n",
       "      <td>34</td>\n",
       "      <td>19</td>\n",
       "      <td>1</td>\n",
       "      <td>1</td>\n",
       "      <td>60</td>\n",
       "    </tr>\n",
       "    <tr>\n",
       "      <th>pacific</th>\n",
       "      <td>13</td>\n",
       "      <td>81</td>\n",
       "      <td>27</td>\n",
       "      <td>4</td>\n",
       "      <td>0</td>\n",
       "      <td>125</td>\n",
       "    </tr>\n",
       "    <tr>\n",
       "      <th>All</th>\n",
       "      <td>90</td>\n",
       "      <td>546</td>\n",
       "      <td>240</td>\n",
       "      <td>33</td>\n",
       "      <td>3</td>\n",
       "      <td>912</td>\n",
       "    </tr>\n",
       "  </tbody>\n",
       "</table>\n",
       "</div>"
      ],
      "text/plain": [
       "howfree          COMPLETE FREEDOM  A GREAT DEAL OF FREEDOM  \\\n",
       "region                                                       \n",
       "NEW ENGLAND                     5                       25   \n",
       "MIDDLE ATLANTIC                14                       83   \n",
       "E. NOR. CENTRAL                 9                       92   \n",
       "W. NOR. CENTRAL                10                       43   \n",
       "SOUTH ATLANTIC                 19                       98   \n",
       "E. SOU. CENTRAL                 7                       31   \n",
       "W. SOU. CENTRAL                 8                       59   \n",
       "mountain                        5                       34   \n",
       "pacific                        13                       81   \n",
       "All                            90                      546   \n",
       "\n",
       "howfree          A MODERATE DEGREE OF FREEDOM  NOT MUCH FREEDOM  \\\n",
       "region                                                            \n",
       "NEW ENGLAND                                15                 0   \n",
       "MIDDLE ATLANTIC                            37                 4   \n",
       "E. NOR. CENTRAL                            42                 3   \n",
       "W. NOR. CENTRAL                            17                 3   \n",
       "SOUTH ATLANTIC                             38                11   \n",
       "E. SOU. CENTRAL                            21                 4   \n",
       "W. SOU. CENTRAL                            24                 3   \n",
       "mountain                                   19                 1   \n",
       "pacific                                    27                 4   \n",
       "All                                       240                33   \n",
       "\n",
       "howfree          NO FREEDOM AT ALL  All  \n",
       "region                                   \n",
       "NEW ENGLAND                      0   45  \n",
       "MIDDLE ATLANTIC                  0  138  \n",
       "E. NOR. CENTRAL                  1  147  \n",
       "W. NOR. CENTRAL                  0   73  \n",
       "SOUTH ATLANTIC                   1  167  \n",
       "E. SOU. CENTRAL                  0   63  \n",
       "W. SOU. CENTRAL                  0   94  \n",
       "mountain                         1   60  \n",
       "pacific                          0  125  \n",
       "All                              3  912  "
      ]
     },
     "execution_count": 56,
     "metadata": {},
     "output_type": "execute_result"
    }
   ],
   "source": [
    "df_subset = df.loc[df['howfree'].notnull(), ['region', 'howfree']]\n",
    "pd.crosstab(df_subset['region'], df_subset['howfree'], margins=True)"
   ]
  },
  {
   "cell_type": "code",
   "execution_count": 57,
   "metadata": {},
   "outputs": [
    {
     "data": {
      "text/html": [
       "<div>\n",
       "<style scoped>\n",
       "    .dataframe tbody tr th:only-of-type {\n",
       "        vertical-align: middle;\n",
       "    }\n",
       "\n",
       "    .dataframe tbody tr th {\n",
       "        vertical-align: top;\n",
       "    }\n",
       "\n",
       "    .dataframe thead th {\n",
       "        text-align: right;\n",
       "    }\n",
       "</style>\n",
       "<table border=\"1\" class=\"dataframe\">\n",
       "  <thead>\n",
       "    <tr style=\"text-align: right;\">\n",
       "      <th>freenow</th>\n",
       "      <th>MORE FREEDOM</th>\n",
       "      <th>ABOUT THE SAME AMOUNT OF FREEDOM</th>\n",
       "      <th>LESS FREEDOM</th>\n",
       "      <th>All</th>\n",
       "    </tr>\n",
       "    <tr>\n",
       "      <th>region</th>\n",
       "      <th></th>\n",
       "      <th></th>\n",
       "      <th></th>\n",
       "      <th></th>\n",
       "    </tr>\n",
       "  </thead>\n",
       "  <tbody>\n",
       "    <tr>\n",
       "      <th>NEW ENGLAND</th>\n",
       "      <td>23</td>\n",
       "      <td>15</td>\n",
       "      <td>7</td>\n",
       "      <td>45</td>\n",
       "    </tr>\n",
       "    <tr>\n",
       "      <th>MIDDLE ATLANTIC</th>\n",
       "      <td>65</td>\n",
       "      <td>57</td>\n",
       "      <td>15</td>\n",
       "      <td>137</td>\n",
       "    </tr>\n",
       "    <tr>\n",
       "      <th>E. NOR. CENTRAL</th>\n",
       "      <td>58</td>\n",
       "      <td>56</td>\n",
       "      <td>31</td>\n",
       "      <td>145</td>\n",
       "    </tr>\n",
       "    <tr>\n",
       "      <th>W. NOR. CENTRAL</th>\n",
       "      <td>34</td>\n",
       "      <td>26</td>\n",
       "      <td>13</td>\n",
       "      <td>73</td>\n",
       "    </tr>\n",
       "    <tr>\n",
       "      <th>SOUTH ATLANTIC</th>\n",
       "      <td>71</td>\n",
       "      <td>68</td>\n",
       "      <td>28</td>\n",
       "      <td>167</td>\n",
       "    </tr>\n",
       "    <tr>\n",
       "      <th>E. SOU. CENTRAL</th>\n",
       "      <td>26</td>\n",
       "      <td>20</td>\n",
       "      <td>17</td>\n",
       "      <td>63</td>\n",
       "    </tr>\n",
       "    <tr>\n",
       "      <th>W. SOU. CENTRAL</th>\n",
       "      <td>44</td>\n",
       "      <td>31</td>\n",
       "      <td>18</td>\n",
       "      <td>93</td>\n",
       "    </tr>\n",
       "    <tr>\n",
       "      <th>mountain</th>\n",
       "      <td>24</td>\n",
       "      <td>19</td>\n",
       "      <td>17</td>\n",
       "      <td>60</td>\n",
       "    </tr>\n",
       "    <tr>\n",
       "      <th>pacific</th>\n",
       "      <td>56</td>\n",
       "      <td>49</td>\n",
       "      <td>20</td>\n",
       "      <td>125</td>\n",
       "    </tr>\n",
       "    <tr>\n",
       "      <th>All</th>\n",
       "      <td>401</td>\n",
       "      <td>341</td>\n",
       "      <td>166</td>\n",
       "      <td>908</td>\n",
       "    </tr>\n",
       "  </tbody>\n",
       "</table>\n",
       "</div>"
      ],
      "text/plain": [
       "freenow          MORE FREEDOM  ABOUT THE SAME AMOUNT OF FREEDOM  LESS FREEDOM  \\\n",
       "region                                                                          \n",
       "NEW ENGLAND                23                                15             7   \n",
       "MIDDLE ATLANTIC            65                                57            15   \n",
       "E. NOR. CENTRAL            58                                56            31   \n",
       "W. NOR. CENTRAL            34                                26            13   \n",
       "SOUTH ATLANTIC             71                                68            28   \n",
       "E. SOU. CENTRAL            26                                20            17   \n",
       "W. SOU. CENTRAL            44                                31            18   \n",
       "mountain                   24                                19            17   \n",
       "pacific                    56                                49            20   \n",
       "All                       401                               341           166   \n",
       "\n",
       "freenow          All  \n",
       "region                \n",
       "NEW ENGLAND       45  \n",
       "MIDDLE ATLANTIC  137  \n",
       "E. NOR. CENTRAL  145  \n",
       "W. NOR. CENTRAL   73  \n",
       "SOUTH ATLANTIC   167  \n",
       "E. SOU. CENTRAL   63  \n",
       "W. SOU. CENTRAL   93  \n",
       "mountain          60  \n",
       "pacific          125  \n",
       "All              908  "
      ]
     },
     "execution_count": 57,
     "metadata": {},
     "output_type": "execute_result"
    }
   ],
   "source": [
    "df_subset = df.loc[df['freenow'].notnull(), ['region', 'freenow']]\n",
    "pd.crosstab(df_subset['region'], df_subset['freenow'], margins=True)"
   ]
  },
  {
   "cell_type": "code",
   "execution_count": 55,
   "metadata": {},
   "outputs": [
    {
     "data": {
      "text/html": [
       "<div>\n",
       "<style scoped>\n",
       "    .dataframe tbody tr th:only-of-type {\n",
       "        vertical-align: middle;\n",
       "    }\n",
       "\n",
       "    .dataframe tbody tr th {\n",
       "        vertical-align: top;\n",
       "    }\n",
       "\n",
       "    .dataframe thead th {\n",
       "        text-align: right;\n",
       "    }\n",
       "</style>\n",
       "<table border=\"1\" class=\"dataframe\">\n",
       "  <thead>\n",
       "    <tr style=\"text-align: right;\">\n",
       "      <th>satdemoc</th>\n",
       "      <th>VERY SATISFIED</th>\n",
       "      <th>FAIRLY SATISFIED</th>\n",
       "      <th>NOT VERY SATISFIED</th>\n",
       "      <th>NOT AT ALL SATISFIED</th>\n",
       "      <th>All</th>\n",
       "    </tr>\n",
       "    <tr>\n",
       "      <th>region</th>\n",
       "      <th></th>\n",
       "      <th></th>\n",
       "      <th></th>\n",
       "      <th></th>\n",
       "      <th></th>\n",
       "    </tr>\n",
       "  </thead>\n",
       "  <tbody>\n",
       "    <tr>\n",
       "      <th>NEW ENGLAND</th>\n",
       "      <td>8</td>\n",
       "      <td>25</td>\n",
       "      <td>10</td>\n",
       "      <td>2</td>\n",
       "      <td>45</td>\n",
       "    </tr>\n",
       "    <tr>\n",
       "      <th>MIDDLE ATLANTIC</th>\n",
       "      <td>20</td>\n",
       "      <td>93</td>\n",
       "      <td>19</td>\n",
       "      <td>3</td>\n",
       "      <td>135</td>\n",
       "    </tr>\n",
       "    <tr>\n",
       "      <th>E. NOR. CENTRAL</th>\n",
       "      <td>22</td>\n",
       "      <td>90</td>\n",
       "      <td>26</td>\n",
       "      <td>7</td>\n",
       "      <td>145</td>\n",
       "    </tr>\n",
       "    <tr>\n",
       "      <th>W. NOR. CENTRAL</th>\n",
       "      <td>13</td>\n",
       "      <td>43</td>\n",
       "      <td>14</td>\n",
       "      <td>1</td>\n",
       "      <td>71</td>\n",
       "    </tr>\n",
       "    <tr>\n",
       "      <th>SOUTH ATLANTIC</th>\n",
       "      <td>32</td>\n",
       "      <td>103</td>\n",
       "      <td>21</td>\n",
       "      <td>9</td>\n",
       "      <td>165</td>\n",
       "    </tr>\n",
       "    <tr>\n",
       "      <th>E. SOU. CENTRAL</th>\n",
       "      <td>6</td>\n",
       "      <td>41</td>\n",
       "      <td>8</td>\n",
       "      <td>8</td>\n",
       "      <td>63</td>\n",
       "    </tr>\n",
       "    <tr>\n",
       "      <th>W. SOU. CENTRAL</th>\n",
       "      <td>18</td>\n",
       "      <td>57</td>\n",
       "      <td>10</td>\n",
       "      <td>7</td>\n",
       "      <td>92</td>\n",
       "    </tr>\n",
       "    <tr>\n",
       "      <th>mountain</th>\n",
       "      <td>6</td>\n",
       "      <td>35</td>\n",
       "      <td>13</td>\n",
       "      <td>5</td>\n",
       "      <td>59</td>\n",
       "    </tr>\n",
       "    <tr>\n",
       "      <th>pacific</th>\n",
       "      <td>23</td>\n",
       "      <td>78</td>\n",
       "      <td>20</td>\n",
       "      <td>4</td>\n",
       "      <td>125</td>\n",
       "    </tr>\n",
       "    <tr>\n",
       "      <th>All</th>\n",
       "      <td>148</td>\n",
       "      <td>565</td>\n",
       "      <td>141</td>\n",
       "      <td>46</td>\n",
       "      <td>900</td>\n",
       "    </tr>\n",
       "  </tbody>\n",
       "</table>\n",
       "</div>"
      ],
      "text/plain": [
       "satdemoc         VERY SATISFIED  FAIRLY SATISFIED  NOT VERY SATISFIED  \\\n",
       "region                                                                  \n",
       "NEW ENGLAND                   8                25                  10   \n",
       "MIDDLE ATLANTIC              20                93                  19   \n",
       "E. NOR. CENTRAL              22                90                  26   \n",
       "W. NOR. CENTRAL              13                43                  14   \n",
       "SOUTH ATLANTIC               32               103                  21   \n",
       "E. SOU. CENTRAL               6                41                   8   \n",
       "W. SOU. CENTRAL              18                57                  10   \n",
       "mountain                      6                35                  13   \n",
       "pacific                      23                78                  20   \n",
       "All                         148               565                 141   \n",
       "\n",
       "satdemoc         NOT AT ALL SATISFIED  All  \n",
       "region                                      \n",
       "NEW ENGLAND                         2   45  \n",
       "MIDDLE ATLANTIC                     3  135  \n",
       "E. NOR. CENTRAL                     7  145  \n",
       "W. NOR. CENTRAL                     1   71  \n",
       "SOUTH ATLANTIC                      9  165  \n",
       "E. SOU. CENTRAL                     8   63  \n",
       "W. SOU. CENTRAL                     7   92  \n",
       "mountain                            5   59  \n",
       "pacific                             4  125  \n",
       "All                                46  900  "
      ]
     },
     "execution_count": 55,
     "metadata": {},
     "output_type": "execute_result"
    }
   ],
   "source": [
    "df_subset = df.loc[df['satdemoc'].notnull(), ['region', 'satdemoc']]\n",
    "pd.crosstab(df_subset['region'], df_subset['satdemoc'], margins=True)"
   ]
  }
 ],
 "metadata": {
  "interpreter": {
   "hash": "db64136dc4130c2dda380bc0ce411ffaa0317e9a9f99d4dbeea1fc56cb102fad"
  },
  "kernelspec": {
   "display_name": "Python 3.8.11 64-bit ('base': conda)",
   "name": "python3"
  },
  "language_info": {
   "codemirror_mode": {
    "name": "ipython",
    "version": 3
   },
   "file_extension": ".py",
   "mimetype": "text/x-python",
   "name": "python",
   "nbconvert_exporter": "python",
   "pygments_lexer": "ipython3",
   "version": "3.8.11"
  },
  "orig_nbformat": 4
 },
 "nbformat": 4,
 "nbformat_minor": 2
}
