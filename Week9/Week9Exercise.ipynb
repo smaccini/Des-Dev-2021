{
 "cells": [
  {
   "cell_type": "code",
   "execution_count": 1,
   "metadata": {},
   "outputs": [
    {
     "name": "stdout",
     "output_type": "stream",
     "text": [
      "<bound method NDFrame.head of          id  year   age     sex   race          degree   realrinc  \\\n",
      "35284     1  1998  60.0    male  white     HIGH SCHOOL  31005.000   \n",
      "35285     2  1998  27.0  female  white  JUNIOR COLLEGE  11196.000   \n",
      "35286     3  1998  36.0    male  white     HIGH SCHOOL  56842.000   \n",
      "35287     4  1998  21.0    male  white     HIGH SCHOOL  11196.000   \n",
      "35288     5  1998  35.0  female  white        bachelor  31005.000   \n",
      "...     ...   ...   ...     ...    ...             ...        ...   \n",
      "43693  2761  2002  22.0    male  white  LT HIGH SCHOOL  14860.375   \n",
      "43694  2762  2002  46.0    male  white        bachelor        NaN   \n",
      "43695  2763  2002  85.0  female  white     HIGH SCHOOL        NaN   \n",
      "43696  2764  2002  75.0    male  black     HIGH SCHOOL        NaN   \n",
      "43697  2765  2002  46.0    male  white     HIGH SCHOOL  42234.750   \n",
      "\n",
      "                region readfict               news litread         happy  \n",
      "35284  W. SOU. CENTRAL      yes                NaN     NaN  PRETTY HAPPY  \n",
      "35285  W. SOU. CENTRAL       no  LESS THAN ONCE WK     NaN  PRETTY HAPPY  \n",
      "35286  W. SOU. CENTRAL      yes  LESS THAN ONCE WK     NaN    VERY HAPPY  \n",
      "35287  W. SOU. CENTRAL      yes  LESS THAN ONCE WK     NaN    VERY HAPPY  \n",
      "35288  W. SOU. CENTRAL      NaN                NaN     NaN  PRETTY HAPPY  \n",
      "...                ...      ...                ...     ...           ...  \n",
      "43693      NEW ENGLAND      yes   FEW TIMES A WEEK     NaN  PRETTY HAPPY  \n",
      "43694      NEW ENGLAND      NaN                NaN     NaN           NaN  \n",
      "43695      NEW ENGLAND      NaN                NaN     NaN           NaN  \n",
      "43696   SOUTH ATLANTIC      NaN                NaN     NaN           NaN  \n",
      "43697   SOUTH ATLANTIC      yes                NaN     NaN    VERY HAPPY  \n",
      "\n",
      "[8414 rows x 12 columns]>\n"
     ]
    }
   ],
   "source": [
    "import pandas as pd\n",
    "\n",
    "# we restrict this (very large) dataset to the variables of interest\n",
    "# choosing just the columns of intereest from this very very large dataset - look at GSS_Codebook\n",
    "# this entire file will not upload to GitHub\n",
    "# reading in only the columns of of interest - reading fiction comparing to happiness\n",
    "columns = ['id', 'year', 'age', 'sex', 'race', 'degree', 'realrinc', 'region', 'readfict', 'news', 'litread', 'happy']\n",
    "df = pd.read_stata(\"GSS7218_R1.dta\", columns=columns)\n",
    "\n",
    "# further limit dataset to the years we are interested in\n",
    "df = df.loc[df['year'].isin({1998, 2000, 2002})]\n",
    "print(df.head)"
   ]
  },
  {
   "cell_type": "code",
   "execution_count": 2,
   "metadata": {},
   "outputs": [
    {
     "name": "stdout",
     "output_type": "stream",
     "text": [
      "<bound method NDFrame.head of          id  year   age     sex   race          degree   realrinc  \\\n",
      "35284     1  1998  60.0    male  white     HIGH SCHOOL  31005.000   \n",
      "35285     2  1998  27.0  female  white  JUNIOR COLLEGE  11196.000   \n",
      "35286     3  1998  36.0    male  white     HIGH SCHOOL  56842.000   \n",
      "35287     4  1998  21.0    male  white     HIGH SCHOOL  11196.000   \n",
      "35288     5  1998  35.0  female  white        bachelor  31005.000   \n",
      "...     ...   ...   ...     ...    ...             ...        ...   \n",
      "43690  2758  2002  45.0    male  white     HIGH SCHOOL   4067.050   \n",
      "43691  2759  2002  22.0  female  white     HIGH SCHOOL   8603.375   \n",
      "43692  2760  2002  43.0  female  white     HIGH SCHOOL  13296.125   \n",
      "43693  2761  2002  22.0    male  white  LT HIGH SCHOOL  14860.375   \n",
      "43697  2765  2002  46.0    male  white     HIGH SCHOOL  42234.750   \n",
      "\n",
      "                region readfict               news litread         happy  \n",
      "35284  W. SOU. CENTRAL      yes                NaN     NaN  PRETTY HAPPY  \n",
      "35285  W. SOU. CENTRAL       no  LESS THAN ONCE WK     NaN  PRETTY HAPPY  \n",
      "35286  W. SOU. CENTRAL      yes  LESS THAN ONCE WK     NaN    VERY HAPPY  \n",
      "35287  W. SOU. CENTRAL      yes  LESS THAN ONCE WK     NaN    VERY HAPPY  \n",
      "35288  W. SOU. CENTRAL      NaN                NaN     NaN  PRETTY HAPPY  \n",
      "...                ...      ...                ...     ...           ...  \n",
      "43690      NEW ENGLAND      NaN                NaN     NaN           NaN  \n",
      "43691      NEW ENGLAND      NaN                NaN     NaN           NaN  \n",
      "43692      NEW ENGLAND      NaN                NaN     NaN           NaN  \n",
      "43693      NEW ENGLAND      yes   FEW TIMES A WEEK     NaN  PRETTY HAPPY  \n",
      "43697   SOUTH ATLANTIC      yes                NaN     NaN    VERY HAPPY  \n",
      "\n",
      "[5447 rows x 12 columns]>\n"
     ]
    }
   ],
   "source": [
    "# limit dataset to exclude records from individuals who refused\n",
    "# to report their income\n",
    "# eliminates any responses where this field was left empty\n",
    "# can be done multiple times to filter for different factors\n",
    "df = df.loc[df['realrinc'].notnull()]\n",
    "print(df.head)"
   ]
  },
  {
   "cell_type": "code",
   "execution_count": 3,
   "metadata": {},
   "outputs": [
    {
     "name": "stdout",
     "output_type": "stream",
     "text": [
      "<bound method NDFrame.head of          id  year   age     sex   race          degree   realrinc  \\\n",
      "35284     1  1998  60.0    male  white     HIGH SCHOOL  31005.000   \n",
      "35285     2  1998  27.0  female  white  JUNIOR COLLEGE  11196.000   \n",
      "35286     3  1998  36.0    male  white     HIGH SCHOOL  56842.000   \n",
      "35287     4  1998  21.0    male  white     HIGH SCHOOL  11196.000   \n",
      "35288     5  1998  35.0  female  white        bachelor  31005.000   \n",
      "...     ...   ...   ...     ...    ...             ...        ...   \n",
      "43690  2758  2002  45.0    male  white     HIGH SCHOOL   4067.050   \n",
      "43691  2759  2002  22.0  female  white     HIGH SCHOOL   8603.375   \n",
      "43692  2760  2002  43.0  female  white     HIGH SCHOOL  13296.125   \n",
      "43693  2761  2002  22.0    male  white  LT HIGH SCHOOL  14860.375   \n",
      "43697  2765  2002  46.0    male  white     HIGH SCHOOL  42234.750   \n",
      "\n",
      "                region readfict               news litread         happy  \n",
      "35284  W. SOU. CENTRAL      yes                NaN     NaN  PRETTY HAPPY  \n",
      "35285  W. SOU. CENTRAL       no  LESS THAN ONCE WK     NaN  PRETTY HAPPY  \n",
      "35286  W. SOU. CENTRAL      yes  LESS THAN ONCE WK     NaN    VERY HAPPY  \n",
      "35287  W. SOU. CENTRAL      yes  LESS THAN ONCE WK     NaN    VERY HAPPY  \n",
      "35288  W. SOU. CENTRAL      NaN                NaN     NaN  PRETTY HAPPY  \n",
      "...                ...      ...                ...     ...           ...  \n",
      "43690      NEW ENGLAND      NaN                NaN     NaN           NaN  \n",
      "43691      NEW ENGLAND      NaN                NaN     NaN           NaN  \n",
      "43692      NEW ENGLAND      NaN                NaN     NaN           NaN  \n",
      "43693      NEW ENGLAND      yes   FEW TIMES A WEEK     NaN  PRETTY HAPPY  \n",
      "43697   SOUTH ATLANTIC      yes                NaN     NaN    VERY HAPPY  \n",
      "\n",
      "[5447 rows x 12 columns]>\n",
      "<bound method NDFrame.head of          id  year   age     sex   race          degree   realrinc  \\\n",
      "35284     1  1998  60.0    male  white     HIGH SCHOOL  31005.000   \n",
      "35285     2  1998  27.0  female  white  JUNIOR COLLEGE  11196.000   \n",
      "35286     3  1998  36.0    male  white     HIGH SCHOOL  56842.000   \n",
      "35287     4  1998  21.0    male  white     HIGH SCHOOL  11196.000   \n",
      "35288     5  1998  35.0  female  white        bachelor  31005.000   \n",
      "...     ...   ...   ...     ...    ...             ...        ...   \n",
      "43690  2758  2002  45.0    male  white     HIGH SCHOOL   4067.050   \n",
      "43691  2759  2002  22.0  female  white     HIGH SCHOOL   8603.375   \n",
      "43692  2760  2002  43.0  female  white     HIGH SCHOOL  13296.125   \n",
      "43693  2761  2002  22.0    male  white  LT HIGH SCHOOL  14860.375   \n",
      "43697  2765  2002  46.0    male  white     HIGH SCHOOL  42234.750   \n",
      "\n",
      "                region readfict               news litread         happy  \\\n",
      "35284  W. SOU. CENTRAL      yes                NaN     NaN  PRETTY HAPPY   \n",
      "35285  W. SOU. CENTRAL       no  LESS THAN ONCE WK     NaN  PRETTY HAPPY   \n",
      "35286  W. SOU. CENTRAL      yes  LESS THAN ONCE WK     NaN    VERY HAPPY   \n",
      "35287  W. SOU. CENTRAL      yes  LESS THAN ONCE WK     NaN    VERY HAPPY   \n",
      "35288  W. SOU. CENTRAL      NaN                NaN     NaN  PRETTY HAPPY   \n",
      "...                ...      ...                ...     ...           ...   \n",
      "43690      NEW ENGLAND      NaN                NaN     NaN           NaN   \n",
      "43691      NEW ENGLAND      NaN                NaN     NaN           NaN   \n",
      "43692      NEW ENGLAND      NaN                NaN     NaN           NaN   \n",
      "43693      NEW ENGLAND      yes   FEW TIMES A WEEK     NaN  PRETTY HAPPY   \n",
      "43697   SOUTH ATLANTIC      yes                NaN     NaN    VERY HAPPY   \n",
      "\n",
      "        realrinc2015  \n",
      "35284   66960.615876  \n",
      "35285   24179.682482  \n",
      "35286  122760.049270  \n",
      "35287   24179.682482  \n",
      "35288   66960.615876  \n",
      "...              ...  \n",
      "43690    8783.492108  \n",
      "43691   18580.464074  \n",
      "43692   28715.262660  \n",
      "43693   32093.528855  \n",
      "43697   91213.187272  \n",
      "\n",
      "[5447 rows x 13 columns]>\n"
     ]
    }
   ],
   "source": [
    "# REALITY CHECK, using GSS provided values\n",
    "df.loc[df['year'] == 2000, 'realrinc'].astype(float).min() == 333;\n",
    "round(df.loc[df['year'] == 2000, 'realrinc'].astype(float).mean(), 2) == 22110.13;\n",
    "print(df.head)\n",
    "\n",
    "# accounting for inflation (CPI) and using math to standardize reported income by adjusting for inflation\n",
    "# inflation measured via US Consumer Price Index (CPI), source:\n",
    "# http://www.dlt.ri.gov/lmi/pdf/cpi.pdf\n",
    "cpi2015_vs_1986 = 236.7 / 109.6\n",
    "# assert - takes realrinc as a float and adjusts to dataframe\n",
    "# unlikely to do this for purposes of this class.\n",
    "assert df['realrinc'].astype(float).median() < 24000  # reality check\n",
    "df['realrinc2015'] = cpi2015_vs_1986 * df['realrinc'].astype(float)\n",
    "print(df.head)"
   ]
  },
  {
   "cell_type": "code",
   "execution_count": 4,
   "metadata": {},
   "outputs": [
    {
     "data": {
      "image/png": "[encoded data removed]",
      "text/plain": [
       "<Figure size 432x288 with 1 Axes>"
      ]
     },
     "metadata": {
      "needs_background": "light"
     },
     "output_type": "display_data"
    }
   ],
   "source": [
    "# continuing use of groupby\n",
    "\n",
    "\n",
    "import matplotlib.pyplot as plt\n",
    "df.groupby('race')['realrinc2015'].plot(kind='hist', bins=30)\n",
    "plt.xlabel('Income')\n",
    "plt.legend();"
   ]
  },
  {
   "cell_type": "code",
   "execution_count": 6,
   "metadata": {},
   "outputs": [
    {
     "data": {
      "image/png": "[encoded data removed]",
      "text/plain": [
       "<Figure size 432x288 with 1 Axes>"
      ]
     },
     "metadata": {
      "needs_background": "light"
     },
     "output_type": "display_data"
    }
   ],
   "source": [
    "import numpy as np\n",
    "\n",
    "# running log 10 of income\n",
    "# reducing scale logrithmically to see where income is actually clustered\n",
    "\n",
    "df['realrinc2015_log10'] = np.log10(df['realrinc2015'])\n",
    "df.groupby('race')['realrinc2015_log10'].plot(kind='hist', bins=30)\n",
    "plt.xlabel(r'$\\log10(\\mathrm{Income})$')\n",
    "plt.legend();"
   ]
  },
  {
   "cell_type": "code",
   "execution_count": 7,
   "metadata": {},
   "outputs": [
    {
     "name": "stdout",
     "output_type": "stream",
     "text": [
      "749.1342599999999\n",
      "51296.74902490707\n",
      "37160.92814781022\n"
     ]
    }
   ],
   "source": [
    "# can work with anything numerical within the data frame\n",
    "\n",
    "print(df['realrinc2015'].max() / df['realrinc2015'].min())\n",
    "print(df['realrinc2015'].mean())\n",
    "print(df['realrinc2015'].median())"
   ]
  },
  {
   "cell_type": "code",
   "execution_count": 8,
   "metadata": {},
   "outputs": [
    {
     "data": {
      "text/html": [
       "<div>\n",
       "<style scoped>\n",
       "    .dataframe tbody tr th:only-of-type {\n",
       "        vertical-align: middle;\n",
       "    }\n",
       "\n",
       "    .dataframe tbody tr th {\n",
       "        vertical-align: top;\n",
       "    }\n",
       "\n",
       "    .dataframe thead th {\n",
       "        text-align: right;\n",
       "    }\n",
       "</style>\n",
       "<table border=\"1\" class=\"dataframe\">\n",
       "  <thead>\n",
       "    <tr style=\"text-align: right;\">\n",
       "      <th></th>\n",
       "      <th></th>\n",
       "      <th>size</th>\n",
       "      <th>mean</th>\n",
       "      <th>median</th>\n",
       "    </tr>\n",
       "    <tr>\n",
       "      <th>year</th>\n",
       "      <th>degree</th>\n",
       "      <th></th>\n",
       "      <th></th>\n",
       "      <th></th>\n",
       "    </tr>\n",
       "  </thead>\n",
       "  <tbody>\n",
       "    <tr>\n",
       "      <th>1998</th>\n",
       "      <th>bachelor</th>\n",
       "      <td>363</td>\n",
       "      <td>63805.508302</td>\n",
       "      <td>48359.364964</td>\n",
       "    </tr>\n",
       "    <tr>\n",
       "      <th>2000</th>\n",
       "      <th>bachelor</th>\n",
       "      <td>344</td>\n",
       "      <td>58819.407571</td>\n",
       "      <td>46674.821168</td>\n",
       "    </tr>\n",
       "    <tr>\n",
       "      <th>2002</th>\n",
       "      <th>bachelor</th>\n",
       "      <td>307</td>\n",
       "      <td>85469.227956</td>\n",
       "      <td>50673.992929</td>\n",
       "    </tr>\n",
       "  </tbody>\n",
       "</table>\n",
       "</div>"
      ],
      "text/plain": [
       "               size          mean        median\n",
       "year degree                                    \n",
       "1998 bachelor   363  63805.508302  48359.364964\n",
       "2000 bachelor   344  58819.407571  46674.821168\n",
       "2002 bachelor   307  85469.227956  50673.992929"
      ]
     },
     "execution_count": 8,
     "metadata": {},
     "output_type": "execute_result"
    }
   ],
   "source": [
    "# Filter\n",
    "# Need to look at options available in the frame\n",
    "# What are the answer choices for the field\n",
    "# getting the stats by degree by year\n",
    "# also returns the number in the data file (size)\n",
    "\n",
    "df_bachelor = df[df['degree'] == 'bachelor']\n",
    "# observed=True instructs pandas to ignore categories\n",
    "# without any observations\n",
    "df_bachelor.groupby(['year', 'degree'], observed=True)['realrinc2015'].agg(['size', 'mean', 'median'])"
   ]
  },
  {
   "cell_type": "code",
   "execution_count": 10,
   "metadata": {},
   "outputs": [
    {
     "name": "stdout",
     "output_type": "stream",
     "text": [
      "41586    1\n",
      "41799    1\n",
      "35598    1\n",
      "37857    1\n",
      "36644    1\n",
      "37919    0\n",
      "37800    0\n",
      "41318    0\n",
      "Name: readfict, dtype: int64\n",
      "Mean: 0.625\n",
      "Median: 1.0\n"
     ]
    }
   ],
   "source": [
    "# can sample based on any variable \n",
    "# first filter for readfict is not empty\n",
    "# sampling 8 random records - will produce new sample every time it runs\n",
    "\n",
    "# changing the yes/no variable to numeric\n",
    "# can be very useful for ordinal data scaled by very, somewhat, etc. \n",
    "\n",
    "readfict_sample = df.loc[df['readfict'].notnull()].sample(8)['readfict']\n",
    "\n",
    "readfict_sample = readfict_sample.replace(['no', 'yes'], [0, 1])\n",
    "print(readfict_sample)\n",
    "\n",
    "print(\"Mean:\", readfict_sample.mean())\n",
    "print(\"Median:\", readfict_sample.median())"
   ]
  },
  {
   "cell_type": "code",
   "execution_count": 11,
   "metadata": {},
   "outputs": [
    {
     "data": {
      "text/plain": [
       "degree\n",
       "LT HIGH SCHOOL    19551.0\n",
       "HIGH SCHOOL       23568.0\n",
       "JUNIOR COLLEGE    33776.0\n",
       "bachelor          45055.0\n",
       "graduate          77014.0\n",
       "Name: realrinc2015, dtype: float64"
      ]
     },
     "execution_count": 11,
     "metadata": {},
     "output_type": "execute_result"
    }
   ],
   "source": [
    "# returning income by degree\n",
    "# pure pivot table!\n",
    "# demonstrating the income value of education\n",
    "\n",
    "df.groupby('degree')['realrinc2015'].mad().round()"
   ]
  },
  {
   "cell_type": "code",
   "execution_count": 12,
   "metadata": {},
   "outputs": [
    {
     "data": {
      "text/plain": [
       "degree    readfict\n",
       "bachelor  yes          48908.0\n",
       "          no          119523.0\n",
       "graduate  yes          82613.0\n",
       "          no          133028.0\n",
       "Name: realrinc2015, dtype: float64"
      ]
     },
     "execution_count": 12,
     "metadata": {},
     "output_type": "execute_result"
    }
   ],
   "source": [
    "# putting this with reading fiction habits\n",
    "# shows that reading fiction does not help income\n",
    "\n",
    "df_bachelor_or_more = df[df['degree'].isin(['bachelor', 'graduate'])]\n",
    "df_bachelor_or_more.groupby(['degree', 'readfict'], observed=True)['realrinc2015'].mad().round()"
   ]
  },
  {
   "cell_type": "code",
   "execution_count": 13,
   "metadata": {},
   "outputs": [
    {
     "data": {
      "text/plain": [
       "degree    readfict\n",
       "bachelor  yes          71251.0\n",
       "          no          139918.0\n",
       "graduate  yes         113125.0\n",
       "          no          153961.0\n",
       "Name: realrinc2015, dtype: float64"
      ]
     },
     "execution_count": 13,
     "metadata": {},
     "output_type": "execute_result"
    }
   ],
   "source": [
    "# I cannot figure out why this one is different\n",
    "\n",
    "df_bachelor_or_more.groupby(['degree', 'readfict'], observed=True)['realrinc2015'].mean().round()"
   ]
  },
  {
   "cell_type": "code",
   "execution_count": 14,
   "metadata": {},
   "outputs": [
    {
     "data": {
      "text/plain": [
       "happy          readfict\n",
       "VERY HAPPY     yes         107718.0\n",
       "               no          159788.0\n",
       "PRETTY HAPPY   yes          73977.0\n",
       "               no          124923.0\n",
       "NOT TOO HAPPY  yes          58916.0\n",
       "               no          206463.0\n",
       "Name: realrinc2015, dtype: float64"
      ]
     },
     "execution_count": 14,
     "metadata": {},
     "output_type": "execute_result"
    }
   ],
   "source": [
    "# using different variables\n",
    "\n",
    "df_bachelor_or_more.groupby(['happy', 'readfict'], observed=True)['realrinc2015'].mean().round()"
   ]
  },
  {
   "cell_type": "code",
   "execution_count": 16,
   "metadata": {},
   "outputs": [
    {
     "data": {
      "text/plain": [
       "happy          news             \n",
       "VERY HAPPY     everyday             117783.0\n",
       "               FEW TIMES A WEEK      76890.0\n",
       "               ONCE A WEEK           70954.0\n",
       "               LESS THAN ONCE WK     65605.0\n",
       "               never                 69112.0\n",
       "PRETTY HAPPY   everyday              89573.0\n",
       "               FEW TIMES A WEEK      62526.0\n",
       "               ONCE A WEEK           62832.0\n",
       "               LESS THAN ONCE WK     49020.0\n",
       "               never                 45331.0\n",
       "NOT TOO HAPPY  everyday              58423.0\n",
       "               FEW TIMES A WEEK      50821.0\n",
       "               ONCE A WEEK           40893.0\n",
       "               LESS THAN ONCE WK    129695.0\n",
       "               never                110277.0\n",
       "Name: realrinc2015, dtype: float64"
      ]
     },
     "execution_count": 16,
     "metadata": {},
     "output_type": "execute_result"
    }
   ],
   "source": [
    " \n",
    "df_bachelor_or_more.groupby(['happy', 'news'], observed=True)['realrinc2015'].mean().round()"
   ]
  },
  {
   "cell_type": "code",
   "execution_count": 18,
   "metadata": {},
   "outputs": [
    {
     "name": "stdout",
     "output_type": "stream",
     "text": [
      "[2, 5, 5]\n",
      "[0.25, 0.625, 0.625]\n"
     ]
    }
   ],
   "source": [
    "# looking at number of categories and number of observations\n",
    "# this is not based on the dataset but based on these groups entered here\n",
    "# demonstrates that actual count not alwasys helpful, but ration within the data is\n",
    "\n",
    "group1 = ['high school', 'high school', 'high school', 'high school', 'high school',\n",
    "          'high school', 'bachelor', 'bachelor']\n",
    "group2 = ['lt high school', 'lt high school', 'lt high school', 'lt high school',\n",
    "          'high school', 'junior college', 'bachelor', 'graduate']\n",
    "group3 = ['lt high school', 'lt high school', 'high school', 'high school',\n",
    "          'junior college', 'junior college', 'bachelor', 'graduate']\n",
    "\n",
    "# calculate the number of unique values in each group\n",
    "print([len(set(group)) for group in [group1, group2, group3]])\n",
    "# calculate the ratio of observed categories to total observations\n",
    "print([len(set(group)) / len(group) for group in [group1, group2, group3]])"
   ]
  },
  {
   "cell_type": "code",
   "execution_count": null,
   "metadata": {},
   "outputs": [],
   "source": []
  }
 ],
 "metadata": {
  "interpreter": {
   "hash": "db64136dc4130c2dda380bc0ce411ffaa0317e9a9f99d4dbeea1fc56cb102fad"
  },
  "kernelspec": {
   "display_name": "Python 3.8.11 64-bit ('base': conda)",
   "name": "python3"
  },
  "language_info": {
   "codemirror_mode": {
    "name": "ipython",
    "version": 3
   },
   "file_extension": ".py",
   "mimetype": "text/x-python",
   "name": "python",
   "nbconvert_exporter": "python",
   "pygments_lexer": "ipython3",
   "version": "3.8.11"
  },
  "orig_nbformat": 4
 },
 "nbformat": 4,
 "nbformat_minor": 2
}
