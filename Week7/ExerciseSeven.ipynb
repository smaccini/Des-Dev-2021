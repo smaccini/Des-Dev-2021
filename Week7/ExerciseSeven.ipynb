{
 "cells": [
  {
   "cell_type": "code",
   "execution_count": null,
   "metadata": {},
   "outputs": [],
   "source": [
    "# Exercise Seven Start\n",
    "\n"
   ]
  },
  {
   "cell_type": "markdown",
   "metadata": {},
   "source": [
    "# Exercise Seven Starter: Textual Analysis\n",
    "\n",
    "In this exercise, I will not be providing the subheadings. Work from our code examples and the textbooks to construct a well-documented notebook that provides a model for initial textual analysis of a multi-document corpus.\n",
    "\n",
    "Your workflow should:\n",
    "\n",
    "- Import at least three documents you would like to compare (from text files, or using another format for a challenge.)\n",
    "- Preprocess the text and create a tokenized corpus from the text of the imported documents.\n",
    "- Create a document term matrix to enable comparative textual analysis across the full set of documents\n",
    "- Chart at least one comparison between the documents, using word frequency to map the text\n",
    "- Calculate the Euclidean distance between the documents, using two key words as the point of comparison\n",
    "\n",
    "As a bonus challenge, consider trying one of the other types of distance modeling described in the text."
   ]
  },
  {
   "cell_type": "markdown",
   "metadata": {},
   "source": [
    "## Import Documents\n",
    "\n",
    "The documents selected are:\n",
    "\n",
    "- a\n",
    "- b\n",
    "- c\n",
    "- d"
   ]
  },
  {
   "cell_type": "code",
   "execution_count": null,
   "metadata": {},
   "outputs": [],
   "source": []
  },
  {
   "cell_type": "markdown",
   "metadata": {},
   "source": []
  }
 ],
 "metadata": {
  "interpreter": {
   "hash": "db64136dc4130c2dda380bc0ce411ffaa0317e9a9f99d4dbeea1fc56cb102fad"
  },
  "kernelspec": {
   "display_name": "Python 3.8.11 64-bit ('base': conda)",
   "name": "python3"
  },
  "language_info": {
   "name": "python",
   "version": "3.8.11"
  },
  "orig_nbformat": 4
 },
 "nbformat": 4,
 "nbformat_minor": 2
}
