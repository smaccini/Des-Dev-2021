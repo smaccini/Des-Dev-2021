{
 "cells": [
  {
   "cell_type": "markdown",
   "metadata": {},
   "source": [
    "# Exercise Twelve: Texts, Three Ways\n",
    "\n",
    "For this week, you will sample the three methods we've explored (topic modeling, sentiment analysis, and Markov chain generation) using the same set of root texts.\n",
    "\n",
    "- Collect and import ten documents (novels work best, but anything goes!)\n",
    "- Using the topic modeling code as a starter, build a topic model of the documents\n",
    "- Using the sentiment analysis code as a starter, run a sentiment analysis on sample fragments from the documents and compare\n",
    "- Using the Markov chain code as a starter, generate a sentence using one of the documents\n",
    "- Using the Markov chain code as a starter, generate a longer text fragment using all of the documents\n",
    "\n",
    "As a bonus, try to extend this analysis to note other features of these documents using any of our previous exercises as a starting point."
   ]
  },
  {
   "cell_type": "markdown",
   "metadata": {},
   "source": [
    "## Collect and import ten documents\n",
    "\n",
    "Using the same group of philosphy texts as Exercise Eleven."
   ]
  },
  {
   "cell_type": "code",
   "execution_count": 1,
   "metadata": {},
   "outputs": [
    {
     "name": "stdout",
     "output_type": "stream",
     "text": [
      "12\n",
      "['PhilosophyTexts/Artistotle.txt', 'PhilosophyTexts/Descartes.txt', 'PhilosophyTexts/Dewey.txt', 'PhilosophyTexts/Hume.txt', 'PhilosophyTexts/Kant.txt', 'PhilosophyTexts/Locke.txt', 'PhilosophyTexts/Machiavelli.txt', 'PhilosophyTexts/Marx.txt', 'PhilosophyTexts/Mill.txt', 'PhilosophyTexts/Nietzsche.txt', 'PhilosophyTexts/Plato.txt']\n"
     ]
    }
   ],
   "source": [
    "import pandas as pd\n",
    "import os\n",
    "import numpy as np\n",
    "\n",
    "documents = []\n",
    "path = 'PhilosophyTexts/'\n",
    "\n",
    "filenames=sorted([os.path.join(path, fn) for fn in os.listdir(path)])\n",
    "print(len(filenames)) \n",
    "print(filenames[:11]) "
   ]
  },
  {
   "cell_type": "markdown",
   "metadata": {},
   "source": [
    "## Build the Topic Model"
   ]
  },
  {
   "cell_type": "code",
   "execution_count": 2,
   "metadata": {},
   "outputs": [],
   "source": [
    "import sklearn.feature_extraction.text as text\n",
    "\n",
    "vectorizer=text.CountVectorizer(input='filename', stop_words=\"english\", min_df=1)\n",
    "dtm=vectorizer.fit_transform(filenames).toarray() \n",
    "\n",
    "vocab=np.array(vectorizer.get_feature_names())"
   ]
  },
  {
   "cell_type": "code",
   "execution_count": 3,
   "metadata": {},
   "outputs": [
    {
     "name": "stdout",
     "output_type": "stream",
     "text": [
      "Shape of document-term matrix: (12, 27788). Number of tokens 518152\n"
     ]
    }
   ],
   "source": [
    "print(f'Shape of document-term matrix: {dtm.shape}. '\n",
    "      f'Number of tokens {dtm.sum()}')"
   ]
  },
  {
   "cell_type": "code",
   "execution_count": 4,
   "metadata": {},
   "outputs": [],
   "source": [
    "import sklearn.decomposition as decomposition\n",
    "model = decomposition.LatentDirichletAllocation(\n",
    "    n_components=100, learning_method='online', random_state=1)"
   ]
  },
  {
   "cell_type": "code",
   "execution_count": 5,
   "metadata": {},
   "outputs": [],
   "source": [
    "document_topic_distributions = model.fit_transform(dtm)"
   ]
  },
  {
   "cell_type": "code",
   "execution_count": 6,
   "metadata": {},
   "outputs": [],
   "source": [
    "vocabulary = vectorizer.get_feature_names()\n",
    "# (# topics, # vocabulary)\n",
    "assert model.components_.shape == (100, len(vocabulary))\n",
    "# (# documents, # topics)\n",
    "assert document_topic_distributions.shape == (dtm.shape[0], 100)"
   ]
  },
  {
   "cell_type": "code",
   "execution_count": 7,
   "metadata": {},
   "outputs": [
    {
     "name": "stdout",
     "output_type": "stream",
     "text": [
      "                00       000        01        02        03       03½  \\\n",
      "Topic 0   0.240760  0.197159  0.193983  0.184211  0.240563  0.189595   \n",
      "Topic 1   0.210605  0.219259  0.186159  0.197693  0.212178  0.203222   \n",
      "Topic 2   0.239366  3.016938  0.217606  0.223182  0.190830  0.215302   \n",
      "Topic 3   0.204421  0.209356  0.216239  0.211463  0.179638  0.219735   \n",
      "Topic 4   0.212419  0.211713  0.173356  0.221555  0.189462  0.250994   \n",
      "...            ...       ...       ...       ...       ...       ...   \n",
      "Topic 95  0.203540  0.220559  0.206227  0.168394  0.210439  0.191824   \n",
      "Topic 96  0.216542  0.215697  0.217518  0.235982  0.239889  0.229619   \n",
      "Topic 97  0.229363  0.172233  0.234939  0.211265  0.233763  0.206985   \n",
      "Topic 98  0.191062  0.219132  0.181732  0.185635  0.215241  0.188655   \n",
      "Topic 99  0.193943  0.246933  0.196937  0.228399  0.243059  0.209901   \n",
      "\n",
      "               04¾        06        10       100  ...  ætolians_     αὐτῶν  \\\n",
      "Topic 0   0.234393  0.166689  0.241556  0.188162  ...   0.205600  0.197671   \n",
      "Topic 1   0.228671  0.164854  0.188552  0.200771  ...   0.212324  0.210878   \n",
      "Topic 2   0.212524  0.216744  5.443481  0.291352  ...   0.201729  0.213737   \n",
      "Topic 3   0.235343  0.222387  0.175573  0.252278  ...   0.183209  0.247595   \n",
      "Topic 4   0.225883  0.238680  0.259426  0.204156  ...   0.226754  0.204830   \n",
      "...            ...       ...       ...       ...  ...        ...       ...   \n",
      "Topic 95  0.225003  0.196883  0.230210  0.221480  ...   0.193441  0.197006   \n",
      "Topic 96  0.194233  0.200111  0.241177  0.224753  ...   0.196620  0.217825   \n",
      "Topic 97  0.198679  0.202554  0.191267  0.196532  ...   0.178408  0.177678   \n",
      "Topic 98  0.182136  0.218358  0.211422  0.196557  ...   0.176138  0.230881   \n",
      "Topic 99  0.225884  0.207713  0.224623  0.221847  ...   0.225045  0.201050   \n",
      "\n",
      "              αὐτῷ   βέβαιον  προσφέροντες        τὰ        τὸ   φορτικὰ  \\\n",
      "Topic 0   0.228065  0.195857      0.210370  0.195977  0.193627  0.206486   \n",
      "Topic 1   0.235342  0.189372      0.203806  0.195953  0.211289  0.192818   \n",
      "Topic 2   0.232280  0.195853      0.213964  0.170298  0.223303  0.208680   \n",
      "Topic 3   0.199291  0.222416      0.195894  0.213641  0.191565  0.189376   \n",
      "Topic 4   0.224673  0.253788      0.215360  0.230022  0.209614  0.202314   \n",
      "...            ...       ...           ...       ...       ...       ...   \n",
      "Topic 95  0.190015  0.213718      0.204586  0.210617  0.194313  0.192969   \n",
      "Topic 96  0.211569  0.219131      0.247749  0.162324  0.178171  0.205216   \n",
      "Topic 97  0.209732  0.215070      0.196927  0.188716  0.214259  0.194188   \n",
      "Topic 98  0.205017  0.220554      0.212838  0.196284  0.251527  0.221526   \n",
      "Topic 99  0.277165  0.198515      0.197157  0.205068  0.213413  0.185007   \n",
      "\n",
      "              ἅπαν  ἐξοίχεται  \n",
      "Topic 0   0.204977   0.230509  \n",
      "Topic 1   0.220898   0.230140  \n",
      "Topic 2   0.193139   0.212661  \n",
      "Topic 3   0.161627   0.171491  \n",
      "Topic 4   0.220658   0.197893  \n",
      "...            ...        ...  \n",
      "Topic 95  0.206025   0.195771  \n",
      "Topic 96  0.195838   0.214554  \n",
      "Topic 97  0.172996   0.218748  \n",
      "Topic 98  0.196806   0.200995  \n",
      "Topic 99  0.185286   0.231909  \n",
      "\n",
      "[100 rows x 27788 columns]\n"
     ]
    }
   ],
   "source": [
    "topic_names = [f'Topic {k}' for k in range(100)]\n",
    "topic_word_distributions = pd.DataFrame(\n",
    "    model.components_, columns=vocabulary, index=topic_names)\n",
    "print(topic_word_distributions)"
   ]
  },
  {
   "cell_type": "code",
   "execution_count": 9,
   "metadata": {},
   "outputs": [
    {
     "name": "stdout",
     "output_type": "stream",
     "text": [
      "         Topic 0       Topic 1       Topic 2       Topic 3       Topic 4  \\\n",
      "0   2.629987e-07  2.629987e-07  2.629987e-07  2.629987e-07  2.629987e-07   \n",
      "1   1.038853e-06  1.038853e-06  8.122571e-02  1.038853e-06  1.038853e-06   \n",
      "2   1.597291e-07  1.597291e-07  9.952012e-01  1.597291e-07  1.597291e-07   \n",
      "3   1.130633e-07  1.130633e-07  1.130633e-07  1.130633e-07  1.130633e-07   \n",
      "4   1.174853e-07  1.174853e-07  9.999884e-01  1.174853e-07  1.174853e-07   \n",
      "5   4.359768e-07  4.359768e-07  4.359768e-07  4.359768e-07  4.359768e-07   \n",
      "6   4.715647e-07  4.715647e-07  4.715647e-07  4.715647e-07  4.715647e-07   \n",
      "7   1.423285e-06  1.423285e-06  6.411295e-01  1.423285e-06  1.423285e-06   \n",
      "8   4.474673e-07  4.474673e-07  9.765183e-02  4.474673e-07  4.474673e-07   \n",
      "9   3.445899e-07  3.445899e-07  4.277622e-02  3.445899e-07  3.445899e-07   \n",
      "10  1.205836e-07  1.205836e-07  1.205836e-07  1.205836e-07  1.205836e-07   \n",
      "11  2.045868e-07  2.045868e-07  2.045868e-07  2.045868e-07  2.045868e-07   \n",
      "\n",
      "         Topic 5       Topic 6       Topic 7       Topic 8       Topic 9  ...  \\\n",
      "0   2.629987e-07  2.629987e-07  2.629987e-07  2.629987e-07  2.629987e-07  ...   \n",
      "1   1.038853e-06  1.038853e-06  1.038853e-06  1.038853e-06  1.038853e-06  ...   \n",
      "2   1.597291e-07  1.597291e-07  1.597291e-07  1.597291e-07  1.597291e-07  ...   \n",
      "3   1.130633e-07  1.130633e-07  1.130633e-07  1.130633e-07  1.130633e-07  ...   \n",
      "4   1.174853e-07  1.174853e-07  1.174853e-07  1.174853e-07  1.174853e-07  ...   \n",
      "5   4.359768e-07  4.359768e-07  4.359768e-07  4.359768e-07  4.359768e-07  ...   \n",
      "6   4.715647e-07  4.715647e-07  4.715647e-07  4.715647e-07  4.715647e-07  ...   \n",
      "7   1.423285e-06  1.423285e-06  1.423285e-06  1.423285e-06  1.423285e-06  ...   \n",
      "8   4.474673e-07  4.474673e-07  4.474673e-07  4.474673e-07  4.474673e-07  ...   \n",
      "9   3.445899e-07  3.445899e-07  3.445899e-07  3.445899e-07  3.445899e-07  ...   \n",
      "10  1.205836e-07  1.205836e-07  1.205836e-07  1.205836e-07  1.205836e-07  ...   \n",
      "11  2.045868e-07  2.045868e-07  2.045868e-07  2.045868e-07  2.045868e-07  ...   \n",
      "\n",
      "        Topic 90      Topic 91      Topic 92      Topic 93      Topic 94  \\\n",
      "0   2.629987e-07  2.629987e-07  2.629987e-07  2.629987e-07  2.629987e-07   \n",
      "1   1.038853e-06  1.038853e-06  1.038853e-06  1.038853e-06  1.038853e-06   \n",
      "2   1.597291e-07  1.597291e-07  1.597291e-07  1.597291e-07  1.597291e-07   \n",
      "3   1.130633e-07  1.130633e-07  1.130633e-07  1.130633e-07  1.130633e-07   \n",
      "4   1.174853e-07  1.174853e-07  1.174853e-07  1.174853e-07  1.174853e-07   \n",
      "5   4.359768e-07  4.359768e-07  4.359768e-07  4.359768e-07  4.359768e-07   \n",
      "6   4.715647e-07  4.715647e-07  4.715647e-07  4.715647e-07  4.715647e-07   \n",
      "7   1.423285e-06  1.423285e-06  1.423285e-06  1.423285e-06  1.423285e-06   \n",
      "8   4.474673e-07  4.474673e-07  4.474673e-07  4.474673e-07  4.474673e-07   \n",
      "9   3.445899e-07  3.445899e-07  3.445899e-07  3.445899e-07  3.445899e-07   \n",
      "10  1.205836e-07  1.205836e-07  1.205836e-07  1.205836e-07  1.205836e-07   \n",
      "11  2.045868e-07  2.045868e-07  2.045868e-07  2.045868e-07  2.045868e-07   \n",
      "\n",
      "        Topic 95      Topic 96      Topic 97      Topic 98      Topic 99  \n",
      "0   2.629987e-07  2.629987e-07  2.629987e-07  2.629987e-07  2.629987e-07  \n",
      "1   1.038853e-06  1.038853e-06  1.038853e-06  1.038853e-06  1.038853e-06  \n",
      "2   1.597291e-07  1.597291e-07  1.597291e-07  1.597291e-07  1.597291e-07  \n",
      "3   1.130633e-07  1.130633e-07  1.130633e-07  1.130633e-07  1.130633e-07  \n",
      "4   1.174853e-07  1.174853e-07  1.174853e-07  1.174853e-07  1.174853e-07  \n",
      "5   4.359768e-07  4.359768e-07  4.359768e-07  4.359768e-07  4.359768e-07  \n",
      "6   4.715647e-07  4.715647e-07  4.715647e-07  4.715647e-07  4.715647e-07  \n",
      "7   1.423285e-06  1.423285e-06  1.423285e-06  1.423285e-06  1.423285e-06  \n",
      "8   4.474673e-07  4.474673e-07  4.474673e-07  4.474673e-07  4.474673e-07  \n",
      "9   3.445899e-07  3.445899e-07  3.445899e-07  3.445899e-07  3.445899e-07  \n",
      "10  1.205836e-07  1.205836e-07  1.205836e-07  1.205836e-07  1.205836e-07  \n",
      "11  2.045868e-07  2.045868e-07  2.045868e-07  2.045868e-07  2.045868e-07  \n",
      "\n",
      "[12 rows x 100 columns]\n"
     ]
    }
   ],
   "source": [
    "document_topic_distributions = pd.DataFrame(\n",
    "    document_topic_distributions, columns=topic_names)\n",
    "print(document_topic_distributions)"
   ]
  },
  {
   "cell_type": "code",
   "execution_count": 10,
   "metadata": {},
   "outputs": [
    {
     "data": {
      "text/plain": [
       "reason           1060.212642\n",
       "experience        974.476854\n",
       "conception        778.721583\n",
       "time              711.778306\n",
       "pure              605.376934\n",
       "object            600.853505\n",
       "things            595.387891\n",
       "understanding     582.951746\n",
       "conceptions       580.987697\n",
       "nature            565.735009\n",
       "means             548.628034\n",
       "possible          546.913712\n",
       "existence         515.529145\n",
       "conditions        498.100816\n",
       "intuition         495.633257\n",
       "given             487.512994\n",
       "empirical         474.310562\n",
       "phenomena         459.929122\n",
       "Name: Topic 2, dtype: float64"
      ]
     },
     "execution_count": 10,
     "metadata": {},
     "output_type": "execute_result"
    }
   ],
   "source": [
    "words = topic_word_distributions.loc['Topic 2'].sort_values(ascending=False).head(18)\n",
    "words"
   ]
  },
  {
   "cell_type": "code",
   "execution_count": 11,
   "metadata": {},
   "outputs": [
    {
     "name": "stdout",
     "output_type": "stream",
     "text": [
      "00      0.239366\n",
      "000     3.016938\n",
      "01      0.217606\n",
      "02      0.223182\n",
      "03      0.190830\n",
      "03½     0.215302\n",
      "04¾     0.212524\n",
      "06      0.216744\n",
      "10      5.443481\n",
      "100     0.291352\n",
      "1000    0.209539\n",
      "101     0.230969\n",
      "102     0.276963\n",
      "103     0.278825\n",
      "104     0.251380\n",
      "105     0.291729\n",
      "106     0.214677\n",
      "107     0.263185\n",
      "108     0.250100\n",
      "109     0.215708\n",
      "Name: Topic 2, dtype: float64\n"
     ]
    },
    {
     "data": {
      "image/png": "[encoded data removed]",
      "text/plain": [
       "<Figure size 432x288 with 1 Axes>"
      ]
     },
     "metadata": {
      "needs_background": "light"
     },
     "output_type": "display_data"
    }
   ],
   "source": [
    "from matplotlib import pyplot as plt\n",
    "from wordcloud import WordCloud, STOPWORDS\n",
    "import matplotlib.colors as mcolors\n",
    "\n",
    "print(topic_word_distributions.loc['Topic 2'].head(20))\n",
    "\n",
    "wordcloud = WordCloud().generate_from_frequencies(words)\n",
    "\n",
    "\n",
    "plt.imshow(wordcloud, interpolation='bilinear')\n",
    "plt.axis(\"off\")\n",
    "plt.show()"
   ]
  },
  {
   "cell_type": "code",
   "execution_count": null,
   "metadata": {},
   "outputs": [],
   "source": [
    "# Method 2 - Sentiment Analysis\n",
    "\n",
    "# boosts or negates words based on positive and negative words around them\n",
    "# limitation - word meanings change over time"
   ]
  },
  {
   "cell_type": "markdown",
   "metadata": {},
   "source": [
    "## Sentiment analysis from sample fragements\n",
    "\n",
    "Using the Introduction by Mill and the first several paragraphs of Marx\n",
    "\n",
    "The differences are not as expected based upon the reading of the text fragments."
   ]
  },
  {
   "cell_type": "code",
   "execution_count": 12,
   "metadata": {},
   "outputs": [
    {
     "name": "stderr",
     "output_type": "stream",
     "text": [
      "[nltk_data] Downloading package vader_lexicon to\n",
      "[nltk_data]     C:\\Users\\ShelleyM\\AppData\\Roaming\\nltk_data...\n",
      "[nltk_data]   Package vader_lexicon is already up-to-date!\n",
      "[nltk_data] Downloading package punkt to\n",
      "[nltk_data]     C:\\Users\\ShelleyM\\AppData\\Roaming\\nltk_data...\n",
      "[nltk_data]   Package punkt is already up-to-date!\n"
     ]
    },
    {
     "data": {
      "text/plain": [
       "True"
      ]
     },
     "execution_count": 12,
     "metadata": {},
     "output_type": "execute_result"
    }
   ],
   "source": [
    "import nltk\n",
    "nltk.download('vader_lexicon')\n",
    "nltk.download('punkt')"
   ]
  },
  {
   "cell_type": "code",
   "execution_count": 18,
   "metadata": {},
   "outputs": [],
   "source": [
    "from nltk.sentiment.vader import SentimentIntensityAnalyzer\n",
    "sid = SentimentIntensityAnalyzer()\n",
    "\n",
    "message_text = '''The struggle between Liberty and Authority is the most conspicuous feature in the portions of history with which we are earliest familiar, particularly in that of Greece, Rome, and England. But in old times this contest was between subjects, or some classes of subjects, and the government. By liberty, was meant protection against the tyranny of the political rulers. The rulers were conceived (except in some of the popular governments of Greece) as in a necessarily antagonistic position to the people whom they ruled. They consisted of a governing One, or a governing tribe or caste, who derived their authority from inheritance or conquest, who, at all events, did not hold it at the pleasure of the governed, and whose supremacy men did not venture, perhaps did not desire, to contest, whatever precautions might be taken against its oppressive exercise. Their power was regarded as necessary, but also as highly dangerous; as a weapon which they would attempt to use against their subjects, no less than against external enemies. To prevent the weaker members of the community from being preyed upon by innumerable vultures, it was needful that there should be an animal of prey stronger than the rest, commissioned to keep them down. But as the king of the vultures would be no less bent upon preying on the flock than any of the minor harpies, it was indispensable to be in a perpetual attitude of defence against his beak and claws. The aim, therefore, of patriots, was to set limits to the power which the ruler should be suffered to exercise over the community; and this limitation was what they meant by liberty. It was attempted in two ways. First, by obtaining a recognition of certain immunities, called political liberties or rights, which it was to be regarded as a breach of duty in the ruler to infringe, and which if he did infringe, specific resistance, or general rebellion, was held to be justifiable. A second, and generally a later expedient, was the establishment of constitutional checks; by which the consent of the community, or of a body of some sort, supposed to represent its interests, was made a necessary condition to some of the more important acts of the governing power. To the first of these modes of limitation, the ruling power, in most European countries, was compelled, more or less, to submit. It was not so with the second; and to attain this, or when already in some degree possessed, to attain it more completely, became everywhere the principal object of the lovers of liberty. And so long as mankind were content to combat one enemy by another, and to be ruled by a master, on condition of being guaranteed more or less efficaciously against his tyranny, they did not carry their aspirations beyond this point. '''"
   ]
  },
  {
   "cell_type": "code",
   "execution_count": 19,
   "metadata": {},
   "outputs": [
    {
     "name": "stdout",
     "output_type": "stream",
     "text": [
      "The struggle between Liberty and Authority is the most conspicuous feature in the portions of history with which we are earliest familiar, particularly in that of Greece, Rome, and England. But in old times this contest was between subjects, or some classes of subjects, and the government. By liberty, was meant protection against the tyranny of the political rulers. The rulers were conceived (except in some of the popular governments of Greece) as in a necessarily antagonistic position to the people whom they ruled. They consisted of a governing One, or a governing tribe or caste, who derived their authority from inheritance or conquest, who, at all events, did not hold it at the pleasure of the governed, and whose supremacy men did not venture, perhaps did not desire, to contest, whatever precautions might be taken against its oppressive exercise. Their power was regarded as necessary, but also as highly dangerous; as a weapon which they would attempt to use against their subjects, no less than against external enemies. To prevent the weaker members of the community from being preyed upon by innumerable vultures, it was needful that there should be an animal of prey stronger than the rest, commissioned to keep them down. But as the king of the vultures would be no less bent upon preying on the flock than any of the minor harpies, it was indispensable to be in a perpetual attitude of defence against his beak and claws. The aim, therefore, of patriots, was to set limits to the power which the ruler should be suffered to exercise over the community; and this limitation was what they meant by liberty. It was attempted in two ways. First, by obtaining a recognition of certain immunities, called political liberties or rights, which it was to be regarded as a breach of duty in the ruler to infringe, and which if he did infringe, specific resistance, or general rebellion, was held to be justifiable. A second, and generally a later expedient, was the establishment of constitutional checks; by which the consent of the community, or of a body of some sort, supposed to represent its interests, was made a necessary condition to some of the more important acts of the governing power. To the first of these modes of limitation, the ruling power, in most European countries, was compelled, more or less, to submit. It was not so with the second; and to attain this, or when already in some degree possessed, to attain it more completely, became everywhere the principal object of the lovers of liberty. And so long as mankind were content to combat one enemy by another, and to be ruled by a master, on condition of being guaranteed more or less efficaciously against his tyranny, they did not carry their aspirations beyond this point. \n",
      "compound: -0.801, neg: 0.111, neu: 0.786, pos: 0.103, "
     ]
    }
   ],
   "source": [
    "print(message_text)\n",
    "\n",
    "scores = sid.polarity_scores(message_text)\n",
    "for key in sorted(scores):\n",
    "        print('{0}: {1}, '.format(key, scores[key]), end='')"
   ]
  },
  {
   "cell_type": "code",
   "execution_count": 20,
   "metadata": {},
   "outputs": [],
   "source": [
    "sid = SentimentIntensityAnalyzer()\n",
    "\n",
    "message_text = '''The history of all hitherto existing societies is the history of class struggles.  Freeman and slave, patrician and plebeian, lord and serf, guild-master and journeyman, in a word, oppressor and oppressed, stood in constant opposition to one another, carried on an uninterrupted, now hidden, now open fight, a fight that each time ended, either in a revolutionary re-constitution of society at large, or in the common ruin of the contending classes. In the earlier epochs of history, we find almost everywhere a complicated arrangement of society into various orders, a manifold gradation of social rank.  In ancient Rome we have patricians, knights, plebeians, slaves; in the Middle Ages, feudal lords, vassals, guild-masters, journeymen, apprentices, serfs; in almost all of these classes, again, subordinate gradations. The modern bourgeois society that has sprouted from the ruins of feudal society has not done away with class antagonisms.  It has but established new classes, new conditions of oppression, new forms of struggle in place of the old ones.  Our epoch, the epoch of the bourgeoisie, possesses, however, this distinctive feature: it has simplified the class antagonisms. Society as a whole is more and more splitting up into two great hostile camps, into two great classes, directly facing each other: Bourgeoisie and Proletariat.  From the serfs of the Middle Ages sprang the chartered burghers of the earliest towns.  From these burgesses the first elements of the bourgeoisie were developed. '''"
   ]
  },
  {
   "cell_type": "code",
   "execution_count": 21,
   "metadata": {},
   "outputs": [
    {
     "name": "stdout",
     "output_type": "stream",
     "text": [
      "The history of all hitherto existing societies is the history of class struggles.  Freeman and slave, patrician and plebeian, lord and serf, guild-master and journeyman, in a word, oppressor and oppressed, stood in constant opposition to one another, carried on an uninterrupted, now hidden, now open fight, a fight that each time ended, either in a revolutionary re-constitution of society at large, or in the common ruin of the contending classes. In the earlier epochs of history, we find almost everywhere a complicated arrangement of society into various orders, a manifold gradation of social rank.  In ancient Rome we have patricians, knights, plebeians, slaves; in the Middle Ages, feudal lords, vassals, guild-masters, journeymen, apprentices, serfs; in almost all of these classes, again, subordinate gradations. The modern bourgeois society that has sprouted from the ruins of feudal society has not done away with class antagonisms.  It has but established new classes, new conditions of oppression, new forms of struggle in place of the old ones.  Our epoch, the epoch of the bourgeoisie, possesses, however, this distinctive feature: it has simplified the class antagonisms. Society as a whole is more and more splitting up into two great hostile camps, into two great classes, directly facing each other: Bourgeoisie and Proletariat.  From the serfs of the Middle Ages sprang the chartered burghers of the earliest towns.  From these burgesses the first elements of the bourgeoisie were developed. \n",
      "compound: -0.631, neg: 0.101, neu: 0.847, pos: 0.052, "
     ]
    }
   ],
   "source": [
    "print(message_text)\n",
    "\n",
    "scores = sid.polarity_scores(message_text)\n",
    "for key in sorted(scores):\n",
    "        print('{0}: {1}, '.format(key, scores[key]), end='')"
   ]
  },
  {
   "cell_type": "markdown",
   "metadata": {},
   "source": [
    "## Using Markov chain code, generate a sentence\n",
    "\n",
    "Using Mill"
   ]
  },
  {
   "cell_type": "code",
   "execution_count": 23,
   "metadata": {},
   "outputs": [],
   "source": [
    "import markovify\n",
    "import random"
   ]
  },
  {
   "cell_type": "code",
   "execution_count": 24,
   "metadata": {},
   "outputs": [],
   "source": [
    "with open(\"Mill.txt\",encoding='utf-8') as f:\n",
    "    text = f.read()"
   ]
  },
  {
   "cell_type": "code",
   "execution_count": 25,
   "metadata": {},
   "outputs": [],
   "source": [
    "text_model = markovify.Text(text)"
   ]
  },
  {
   "cell_type": "code",
   "execution_count": 26,
   "metadata": {},
   "outputs": [
    {
     "name": "stdout",
     "output_type": "stream",
     "text": [
      "Because he has infringed the rules necessary for purposes of illustration.\n"
     ]
    }
   ],
   "source": [
    "print( text_model.make_sentence() )"
   ]
  },
  {
   "cell_type": "markdown",
   "metadata": {},
   "source": [
    "## Using Markov chain code, generate longer text fragment\n",
    "\n",
    "Using all Philosophy Texts"
   ]
  },
  {
   "cell_type": "code",
   "execution_count": 27,
   "metadata": {},
   "outputs": [
    {
     "name": "stdout",
     "output_type": "stream",
     "text": [
      "Artistotle.txt\n",
      "Descartes.txt\n",
      "Dewey.txt\n",
      "Hume.txt\n",
      "Kant.txt\n",
      "Locke.txt\n",
      "Machiavelli.txt\n",
      "Marx.txt\n",
      "Mill.txt\n",
      "Nietzsche.txt\n",
      "Plato.txt\n",
      "Thoreau.txt\n"
     ]
    }
   ],
   "source": [
    "import os\n",
    "path = 'PhilosophyTexts/'\n",
    "with os.scandir(path) as entries:\n",
    "    for entry in entries:\n",
    "        print(entry.name)\n",
    "        f = open(f'{path}\\{entry.name}',encoding='utf-8')\n",
    "        text += f.read()"
   ]
  },
  {
   "cell_type": "code",
   "execution_count": 28,
   "metadata": {},
   "outputs": [
    {
     "name": "stdout",
     "output_type": "stream",
     "text": [
      "Their power, in our own or the possibility, on your descending into the den.\n"
     ]
    }
   ],
   "source": [
    "text_model = markovify.Text(text)\n",
    "print( text_model.make_sentence() )"
   ]
  },
  {
   "cell_type": "code",
   "execution_count": 29,
   "metadata": {},
   "outputs": [
    {
     "name": "stdout",
     "output_type": "stream",
     "text": [
      "The ground for believing, honestly found him guilty, and by that means both aristocracies and states properly so called, has immediately drifted from his advice; when he has not the reality of time; and moreover have many than one; for the rest, that if this was as broad as humanity, of whose nature we are apt to overlook, when the ground it already is sure to reflect particularly upon what the air of a phenomenon, secondly, as a thing as good as she flew off, and free interest in them. You may use this eBook or online at www.gutenberg.org. The child might be allowed to hear. \n",
      "\n",
      "The dominant vocation of the weather grew warmer it was men of straw, or a court-house, or a prudent and sagacious. So again the lowing of some of my fortune; and from the solid, permanent, and the virtue of an aristocracy from the inside. For no phenomenon can be prevented from living in helpless misery, is the most abject of flatterers; wanting all things, but only when the consequence of the cause of every kind, but rather to the principle of which we lately enjoyed, and are less than to follow them out to us by the sea with music, or gardens, which the invention of the definitions of mathematics in its distinction from each individual was a time span and cumulative activities. But when it was proper to consider what is known, among other things, but as concerning knowledge, we are possessed with the true being is given in experience, and requires some object with another, it can divide its force and liveliness, The constant form of the understanding. Here then is to be performed. What is sometimes called a sailor; the name of object, standing for the complete analysis of these changes, and which have an influence upon higher instruction especially, that exceptional individuals, instead of laughing at them is concentrated the wisdom of man, as they are walking alone; for before they come. But a little clearer. \n",
      "\n",
      "Where, not the words to the objects to the eternally feminine?--why, then, she wishes to destroy these rare beings! Within the memory or senses, or corporeal nature; 2. X. The necessary consequence that no man call himself their validity. \n",
      "\n",
      "They no longer remain, neither can that be said wholly to resemble our perceptions. Principle of the modern world do not influence those of which they feel the falsehood and cant of this. Fourthly, The delivery also of food, whether staleness, decomposition, or any other of obedience is to say, a being of everything. They have either been blown over into the left or on the countenance of the affections, the amenities of society, so the impressions of touch are found to have consented to it, for experience proves may be able to break through the deepest impression upon the appearance of its existence; and, consequently, I do not allow the embassy itself to be established there, and examined agree with me, that I have relations to others is the difficulty. Even as regards its content, an error in democracies and oligarchies as I was in the strongest of all, in making of their solidity, is this. \n",
      "\n",
      "\n"
     ]
    }
   ],
   "source": [
    "novel = ''\n",
    "while (len( novel.split(\" \")) < 500):\n",
    "  for i in range(random.randrange(3,9)):\n",
    "    novel += text_model.make_sentence() + \" \"\n",
    "  novel += \"\\n\\n\"\n",
    "    # print(text_model.make_sentence()\n",
    "\n",
    "print(novel)"
   ]
  },
  {
   "cell_type": "markdown",
   "metadata": {},
   "source": [
    "## No Bonus attempt this week"
   ]
  }
 ],
 "metadata": {
  "interpreter": {
   "hash": "db64136dc4130c2dda380bc0ce411ffaa0317e9a9f99d4dbeea1fc56cb102fad"
  },
  "kernelspec": {
   "display_name": "Python 3.8.11 64-bit ('base': conda)",
   "name": "python3"
  },
  "language_info": {
   "codemirror_mode": {
    "name": "ipython",
    "version": 3
   },
   "file_extension": ".py",
   "mimetype": "text/x-python",
   "name": "python",
   "nbconvert_exporter": "python",
   "pygments_lexer": "ipython3",
   "version": "3.8.11"
  },
  "orig_nbformat": 4
 },
 "nbformat": 4,
 "nbformat_minor": 2
}
