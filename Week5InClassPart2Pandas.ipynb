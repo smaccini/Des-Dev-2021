{
 "cells": [
  {
   "cell_type": "code",
   "execution_count": null,
   "source": [
    "# First importing pandas\r\n",
    "import pandas as pd\r\n",
    "\r\n",
    "#create a dataframe object from a csv\r\n",
    "oscar_df = pd.read_csv('the_oscar_award.csv', delimiter=\",\")\r\n",
    "\r\n",
    "oscar_df"
   ],
   "outputs": [],
   "metadata": {}
  }
 ],
 "metadata": {
  "orig_nbformat": 4,
  "language_info": {
   "name": "python",
   "version": "3.8.8"
  },
  "kernelspec": {
   "name": "python3",
   "display_name": "Python 3.8.8 64-bit ('base': conda)"
  },
  "interpreter": {
   "hash": "db64136dc4130c2dda380bc0ce411ffaa0317e9a9f99d4dbeea1fc56cb102fad"
  }
 },
 "nbformat": 4,
 "nbformat_minor": 2
}