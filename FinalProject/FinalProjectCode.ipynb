{
 "cells": [
  {
   "cell_type": "markdown",
   "metadata": {},
   "source": [
    "# Final Project Design\n",
    "\n",
    "# Project Overview\n",
    "\n",
    "In this project, I am attempting to improve the work that I started in Social Media Research by using the python tool set.  \n",
    "\n",
    "## Research Question:  \n",
    "\n",
    "Provide context to voter reactions to the political hypocrisy of elected officials, specifically the 2 leading Senators of both political parties, in their words and actions taken on the Supreme Court nomination and confirmation process of Association Justice Amy Coney Barrett to fill the vacancy created by the passing of Associate Justice Ruth Bader Ginsburg 45 days prior to Election Day 2020.  This porject looks at how partisanship mitigates the negative reaction to hypocritical comments and elections by elected officials in influencing voter behavior.\n",
    "\n",
    "## Limitations of Prior Effort:\n",
    "\n",
    "The previous effort used the TAGS Twitter scraper on a periodic basis to scrape four specific hashtags:\n",
    "\n",
    "- #GOPHypocrisy\n",
    "- #FillTheSeatNow \n",
    "- #RBGsDyingWish \n",
    "- #SCOTUS\n",
    "\n",
    "and the Tweets by and directed toward the four US Senators holding the most influential leadership roles:\n",
    "\n",
    "-\tSenate Majority Leader Mitch McConnell (Republican),\n",
    "-\tSenate Minority Leader Chuck Schumer (Democrat),\n",
    "-\tSenate Judiciary Committee Chair Lindsey Graham (Republican), and\n",
    "-\tSenate Judiciary Committee Ranking Member Dianne Feinstein (Democrat\n",
    "\n",
    "as well as the Tweets of election challengers to Senators McConnell and Graham joined the list:\n",
    "-\tAmy McGrath (Democrat) running against Mitch McConnell and\n",
    "-\tJaime Harrison (Democrat) running against Lindsey Graham.\n",
    "\n",
    "Neither Senator Feinstein nor Senator Schumer faced re-election in 2020. \n",
    "\n",
    "Twitter scraping occurred randomly between September 20 and October 1.\n",
    "\n",
    "## Improvements to Methodolgy through Python:\n",
    "\n",
    "I am attempting two improvements to this project.  \n",
    "\n",
    "Part 1 - I will be adding the analysis a few historical texts to determine if their authors addressed either hyprocrisy or partisanship.  \n",
    "Part 2 - I will use my Twitter development credentials to scrape a more complete set of Tweets.\n",
    "\n"
   ]
  },
  {
   "cell_type": "markdown",
   "metadata": {},
   "source": [
    "# Dependencies\n",
    "\n",
    "Add the import code for every dependency of your project: for instance, if you are collecting data, you might import Tweepy or BeautifulSoup. If you're working with a file of folders, import os. Most projects will require Pandas, along with appropriate processing and visualization libraries. In the comments, explain briefly why you are including each library (as shown in the example below.)"
   ]
  },
  {
   "cell_type": "code",
   "execution_count": 15,
   "metadata": {},
   "outputs": [],
   "source": [
    "# Part 1 Dependencies\n",
    "\n",
    "# Import Natural Language Tokenizer to process the texts\n",
    "\n",
    "import nltk\n",
    "import nltk.tokenize\n",
    "\n",
    "# Import regular expressions to process strings\n",
    "\n",
    "import re\n",
    "\n",
    "# Import collections to create container for document term matrix\n",
    "\n",
    "import collections\n",
    "\n",
    "# Import NumPy for counting functions\n",
    "\n",
    "import numpy as np \n",
    "\n",
    "# Importing matplot lib to visualize word counts\n",
    "\n",
    "import matplotlib.pyplot as plt\n"
   ]
  },
  {
   "cell_type": "code",
   "execution_count": null,
   "metadata": {},
   "outputs": [],
   "source": [
    "#Part 2 Dependencies"
   ]
  },
  {
   "cell_type": "markdown",
   "metadata": {},
   "source": [
    "# Collection\n",
    "\n",
    "Describe your data collection scope and process briefly, and include an example of how you might collect your data drawing on our other projects. For example, if this workflow will collect Twitter data from a stream, you might revisit that demo, copy the stream, and adjust the hashtag."
   ]
  },
  {
   "cell_type": "code",
   "execution_count": 7,
   "metadata": {},
   "outputs": [],
   "source": [
    "# Part 1 Collection\n",
    "\n",
    "# Downloaded text files from Project Gutenberg from authors that influenced or represent our understanding of democracy.\n",
    "\n",
    "nltk.download('punkt', quiet=True)\n",
    "\n",
    "corpus = [\"Artistotle.txt\",\"Locke.txt\",\"Mill.txt\",\"Plato.txt\",\"Rousseau.txt\"]\n",
    "titles = [\"Aristotle\",\"Locke\",\"Mill\",\"Plato\",\"Rousseau\"]\n",
    "documents = []\n",
    "for url in corpus:\n",
    "    f = open(url, encoding='utf-8')\n",
    "    text = f.read()\n",
    "    documents.append(text)\n"
   ]
  },
  {
   "cell_type": "code",
   "execution_count": null,
   "metadata": {},
   "outputs": [],
   "source": [
    "# Part 2 Collection"
   ]
  },
  {
   "cell_type": "markdown",
   "metadata": {},
   "source": [
    "# Processing\n",
    "\n",
    "After your data has been collected or imported, store it in a format that works for your purposes. This can vary: for Twitter analysis, it might be a Pandas dataframe, while for text, you might build a document term matrix."
   ]
  },
  {
   "cell_type": "code",
   "execution_count": 9,
   "metadata": {},
   "outputs": [
    {
     "name": "stdout",
     "output_type": "stream",
     "text": [
      "[\"'as-is\", \"'d\", \"'it\", \"'s\", \"'t\", '//gutenberg.org/license', '//pglaf.org', '//pglaf.org/donate', '//pglaf.org/fundraising', '//www.gutenberg.org', '//www.pgdp.net', '//www.pglaf.org', '/i', '1', '1.', '1.a', '1.b', '1.c', '1.d', '1.e', '1.e.1', '1.e.2', '1.e.3', '1.e.4', '1.e.5', '1.e.6', '1.e.7', '1.e.8', '1.e.9', '1.f', '1.f.1', '1.f.2', '1.f.3', '1.f.4', '1.f.5', '1.f.6', '1/2', '1/3', '10', '10.', '100', '100,000', '100.', '101', '102', '103', '104', '107', '108', '11', '11.', '112', '113', '116.', '117', '118', '12', '12.', '121', '122', '124', '125', '126', '127.', '129', '13', '13.', '130', '131', '135', '136', '137', '138', '14', '14.', '140', '142', '143', '146', '149', '15', '150', '1500', '151', '152', '16', '16.', '160', '163', '166', '1667', '167', '168', '1688', '169', '1690', '17', '17.', '173', '1743']\n"
     ]
    }
   ],
   "source": [
    "# Part 1 Processing\n",
    "\n",
    "# Creating a tokenized corpus from the files, including deletion of punctuation and converted all to lowercase\n",
    "\n",
    "PUNCT_RE = re.compile(r'[^\\w\\s]+$')\n",
    "\n",
    "def is_punct(string):\n",
    "    \"\"\"Check if STRING is a punctuation marker or a sequence of\n",
    "       punctuation markers.\n",
    "    \"\"\"\n",
    "    return PUNCT_RE.match(string) is not None\n",
    "\n",
    "def preprocess_text(text, language, lowercase=True):\n",
    "    \"\"\"Preprocess a text.\n",
    "\n",
    "    Perform a text preprocessing procedure, which transforms a string\n",
    "    object into a list of word tokens without punctuation markers.\n",
    "\n",
    "    \"\"\"\n",
    "    if lowercase:\n",
    "        text = text.lower()\n",
    "    tokens = nltk.tokenize.word_tokenize(text, language=language)\n",
    "    tokens = [token for token in tokens if not is_punct(token)]\n",
    "    return tokens\n",
    "\n",
    "\n",
    "tokenized = []\n",
    "for text in documents:\n",
    "    tokenized.append(preprocess_text(text, \"english\"))\n",
    "\n",
    "# Creating the document term matrix from the tokenized corpus, to include word frequencies\n",
    "\n",
    "def extract_vocabulary(tokenized_corpus, min_count=1, max_count=float('inf')):\n",
    "    \"\"\"Extract a vocabulary from a tokenized corpus.\n",
    "\n",
    "    Arguments:\n",
    "        tokenized_corpus (list): a tokenized corpus represented, list\n",
    "            of lists of strings.\n",
    "        min_count (int, optional): the minimum occurrence count of a\n",
    "            vocabulary item in the corpus.\n",
    "        max_count (int, optional): the maximum occurrence count of a\n",
    "            vocabulary item in the corpus. Defaults to inf.\n",
    "\n",
    "    Returns:\n",
    "        list: An alphabetically ordered list of unique words in the\n",
    "            corpus, of which the frequencies adhere to the specified\n",
    "            minimum and maximum count.\n",
    "\n",
    "    Examples:\n",
    "        >>> corpus = [['the', 'man', 'love', 'man', 'the'],\n",
    "                      ['the', 'love', 'book', 'wise', 'drama'],\n",
    "                      ['a', 'story', 'book', 'drama']]\n",
    "        >>> extract_vocabulary(corpus, min_count=2)\n",
    "        ['book', 'drama', 'love', 'man', 'the']\n",
    "\n",
    "    \"\"\"\n",
    "    vocabulary = collections.Counter()\n",
    "    for document in tokenized_corpus:\n",
    "        vocabulary.update(document)\n",
    "    vocabulary = {word for word, count in vocabulary.items()\n",
    "                  if count >= min_count and count <= max_count}\n",
    "    return sorted(vocabulary)\n",
    "\n",
    "vocabulary = extract_vocabulary(tokenized, min_count=2)\n",
    "print(vocabulary[0:100])\n"
   ]
  },
  {
   "cell_type": "code",
   "execution_count": null,
   "metadata": {},
   "outputs": [],
   "source": [
    "# Part 2 Processing"
   ]
  },
  {
   "cell_type": "markdown",
   "metadata": {},
   "source": [
    "# Analysis\n",
    "\n",
    "Think across all of the methods we've tried this semester - what combination would be most helpful for your goals? Include code sections for each method you think is important. In most cases, a combination will be most revealing: for instance, you might employ several different textual analysis frameworks on a set of documents. Use at least two distinctly different methods of analysis."
   ]
  },
  {
   "cell_type": "code",
   "execution_count": 14,
   "metadata": {},
   "outputs": [
    {
     "name": "stdout",
     "output_type": "stream",
     "text": [
      "Hypocrisy: [1 0 1 0 0]\n",
      "Partisan: [0 0 1 1 0]\n",
      "Party: [28  8 15 15 12]\n",
      "Parties: [15  2 12  4 13]\n"
     ]
    }
   ],
   "source": [
    "# Part 1 Analysis\n",
    "\n",
    "# Counting instances of hypocrisy, partisan, partisanship, party, and parties in each of the documents\n",
    "\n",
    "def corpus2dtm(tokenized_corpus, vocabulary):\n",
    "    \"\"\"Transform a tokenized corpus into a document-term matrix.\n",
    "\n",
    "    Arguments:\n",
    "        tokenized_corpus (list): a tokenized corpus as a list of\n",
    "        lists of strings. vocabulary (list): An list of unique words.\n",
    "\n",
    "    Returns:\n",
    "        list: A list of lists representing the frequency of each term\n",
    "              in `vocabulary` for each document in the corpus.\n",
    "\n",
    "    Examples:\n",
    "        >>> tokenized_corpus = [['the', 'man', 'man', 'smart'],\n",
    "                                ['a', 'the', 'man' 'love'],\n",
    "                                ['love', 'book', 'journey']]\n",
    "        >>> vocab = ['book', 'journey', 'man', 'love']\n",
    "        >>> corpus2dtm(tokenized_corpus, vocabulary)\n",
    "        [[0, 0, 2, 0], [0, 0, 1, 1], [1, 1, 0, 1]]\n",
    "\n",
    "    \"\"\"\n",
    "    document_term_matrix = []\n",
    "    for document in tokenized_corpus:\n",
    "        document_counts = collections.Counter(document)\n",
    "        row = [document_counts[word] for word in vocabulary]\n",
    "        document_term_matrix.append(row)\n",
    "    return document_term_matrix\n",
    "\n",
    "# Counting instances of hypocrisy, partisan, party, and parties in each of the documents\n",
    "# Originally I included partisanship, but it was not in the document term matrix, so it is now commented out\n",
    "\n",
    "document_term_matrix = np.array(corpus2dtm(tokenized, vocabulary))\n",
    "hypocrisy_id = vocabulary.index('hypocrisy')\n",
    "partisan_id = vocabulary.index('partisan')\n",
    "# partisanship_id = vocabulary.index('partisanship')\n",
    "party_id = vocabulary.index('party')\n",
    "parties_id = vocabulary.index('parties')\n",
    "\n",
    "hypocrisy_counts = document_term_matrix[:, hypocrisy_id]\n",
    "partisan_counts = document_term_matrix[:, partisan_id]\n",
    "# partisanship_counts = document_term_matrix[:, partisanship_id]\n",
    "party_counts = document_term_matrix[:, party_id]\n",
    "parties_counts = document_term_matrix[:, parties_id]\n",
    "\n",
    "print(\"Hypocrisy: \" + str(hypocrisy_counts))\n",
    "print(\"Partisan: \" + str(partisan_counts))\n",
    "# print(\"Partisanship: \" + str(partisanship_counts))\n",
    "print(\"Party: \" + str(party_counts))\n",
    "print(\"Parties: \" + str(parties_counts))\n",
    "\n",
    "\n"
   ]
  },
  {
   "cell_type": "code",
   "execution_count": null,
   "metadata": {},
   "outputs": [],
   "source": [
    "# Part 2 Analysis"
   ]
  },
  {
   "cell_type": "markdown",
   "metadata": {},
   "source": [
    "# Visualization\n",
    "\n",
    "Finally, think about the visualizations that would be most useful to sharing and exploring your data. Consider both static and dynamic approaches from the different libraries we've worked with this semester. Include at least two preliminary visualizations."
   ]
  },
  {
   "cell_type": "code",
   "execution_count": 19,
   "metadata": {},
   "outputs": [
    {
     "data": {
      "image/png": "[encoded data removed]",
      "text/plain": [
       "<Figure size 432x288 with 1 Axes>"
      ]
     },
     "metadata": {
      "needs_background": "light"
     },
     "output_type": "display_data"
    }
   ],
   "source": [
    "# Part 1 Visualization\n",
    "\n",
    "# Hyprocrisy was not mentioned frequently in the texts.  This visualization will include only party and parties.\n",
    "\n",
    "\n",
    "\n",
    "x = np.arange(len(titles))\n",
    "width = 0.3\n",
    "\n",
    "fig, ax = plt.subplots()\n",
    "rects1 = ax.bar(x - width/2, party_counts, width, label='Party')\n",
    "rects2 = ax.bar(x + width/2, parties_counts, width, label='Parties')\n",
    "\n",
    "ax.set_ylabel('Word Count')\n",
    "ax.set_title('Party and Parties Word Frequency')\n",
    "ax.set_xticks(x)\n",
    "ax.set_xticklabels(titles)\n",
    "ax.legend()\n",
    "\n",
    "fig.tight_layout()\n",
    "\n",
    "plt.show()"
   ]
  },
  {
   "cell_type": "code",
   "execution_count": 26,
   "metadata": {},
   "outputs": [
    {
     "data": {
      "image/png": "[encoded data removed]",
      "text/plain": [
       "<Figure size 432x288 with 1 Axes>"
      ]
     },
     "metadata": {
      "needs_background": "light"
     },
     "output_type": "display_data"
    }
   ],
   "source": [
    "# Attempting a stacked bar chart as the words would be better represented cumulatively\n",
    "\n",
    "labels = titles\n",
    "\n",
    "Party = [28, 8, 15, 15, 12]\n",
    "Parties = [15, 2, 12, 4, 13]\n",
    "\n",
    "\n",
    "party_std = [0, 0, 0, 0, 0]\n",
    "parties_std = [0, 0, 0, 0, 0]\n",
    "\n",
    "\n",
    "width = 0.35       # the width of the bars: can also be len(x) sequence\n",
    "\n",
    "fig, ax = plt.subplots()\n",
    "\n",
    "\n",
    "\n",
    "ax.bar(labels, Party, width, yerr=party_std, label='Party')\n",
    "ax.bar(labels, Parties, width, yerr=parties_std, bottom=Party, label='Parties')\n",
    "\n",
    "ax.set_ylabel('Counts')\n",
    "ax.set_title('Party and Parties Word Frequency')\n",
    "ax.legend()\n",
    "\n",
    "plt.show()"
   ]
  },
  {
   "cell_type": "code",
   "execution_count": null,
   "metadata": {},
   "outputs": [],
   "source": [
    "# Part 2 Visualization"
   ]
  },
  {
   "cell_type": "markdown",
   "metadata": {},
   "source": [
    "# End Result of Analysis (Notes for What to Do Next)\n",
    "\n",
    "## Part 1\n",
    "\n",
    "The analysis was not helpful.  The texts contained few references to hyprocrisy.  They add nothing to the existing literature review.\n",
    "\n",
    "## Part 2"
   ]
  }
 ],
 "metadata": {
  "interpreter": {
   "hash": "db64136dc4130c2dda380bc0ce411ffaa0317e9a9f99d4dbeea1fc56cb102fad"
  },
  "kernelspec": {
   "display_name": "Python 3.8.11 64-bit ('base': conda)",
   "language": "python",
   "name": "python3"
  },
  "language_info": {
   "codemirror_mode": {
    "name": "ipython",
    "version": 3
   },
   "file_extension": ".py",
   "mimetype": "text/x-python",
   "name": "python",
   "nbconvert_exporter": "python",
   "pygments_lexer": "ipython3",
   "version": "3.8.11"
  },
  "orig_nbformat": 4
 },
 "nbformat": 4,
 "nbformat_minor": 2
}
